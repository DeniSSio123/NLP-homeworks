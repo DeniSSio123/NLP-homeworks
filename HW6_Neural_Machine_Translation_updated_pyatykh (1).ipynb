{
  "nbformat": 4,
  "nbformat_minor": 0,
  "metadata": {
    "accelerator": "GPU",
    "anaconda-cloud": {},
    "colab": {
      "name": "Копия блокнота \"HW6_Neural_Machine_Translation_updated.ipynb\"",
      "provenance": [],
      "collapsed_sections": [],
      "machine_shape": "hm"
    },
    "kernelspec": {
      "display_name": "Python 3",
      "name": "python3"
    }
  },
  "cells": [
    {
      "cell_type": "markdown",
      "metadata": {
        "id": "YxWA4FDOFEmM"
      },
      "source": [
        "## Домашнее задание №6. Neural Machine Translation\n",
        "Сдача задания производится по адресу `bdt-mf-ml-nlp-2020-q4@bigdatateam.org`\n",
        "\n",
        "В теме письма указать: \"HW6:NMT. ФИО\"\n",
        "\n",
        "Если какие-то библиотеки недоступны, можно установить их в используемое окружение (environment), например `my_env`, используя пакетный менеджер `pip`: \n",
        "\n",
        "```\n",
        "conda activate my_env\n",
        "pip install pandas \n",
        "```"
      ]
    },
    {
      "cell_type": "markdown",
      "metadata": {
        "id": "bn4SNJrFFEmX"
      },
      "source": [
        "Пример настройки окружения и `requirements.txt` доступны в репозитории: https://github.com/big-data-team/nlp-course"
      ]
    },
    {
      "cell_type": "code",
      "metadata": {
        "colab": {
          "base_uri": "https://localhost:8080/"
        },
        "id": "wWIZ3ev9FEmY",
        "outputId": "4abc0af9-4454-49c6-f4a6-fbbab847ce25"
      },
      "source": [
        "# You might need to install the libraries below. Do it in the desired environment\n",
        "# if you are working locally.\n",
        "\n",
        "! pip install nltk\n",
        "! pip install torchtext==0.5"
      ],
      "execution_count": 1,
      "outputs": [
        {
          "output_type": "stream",
          "text": [
            "Requirement already satisfied: nltk in /usr/local/lib/python3.6/dist-packages (3.2.5)\n",
            "Requirement already satisfied: six in /usr/local/lib/python3.6/dist-packages (from nltk) (1.15.0)\n",
            "Collecting torchtext==0.5\n",
            "\u001b[?25l  Downloading https://files.pythonhosted.org/packages/79/ef/54b8da26f37787f5c670ae2199329e7dccf195c060b25628d99e587dac51/torchtext-0.5.0-py3-none-any.whl (73kB)\n",
            "\u001b[K     |████████████████████████████████| 81kB 6.2MB/s \n",
            "\u001b[?25hRequirement already satisfied: torch in /usr/local/lib/python3.6/dist-packages (from torchtext==0.5) (1.7.0+cu101)\n",
            "Collecting sentencepiece\n",
            "\u001b[?25l  Downloading https://files.pythonhosted.org/packages/14/67/e42bd1181472c95c8cda79305df848264f2a7f62740995a46945d9797b67/sentencepiece-0.1.95-cp36-cp36m-manylinux2014_x86_64.whl (1.2MB)\n",
            "\u001b[K     |████████████████████████████████| 1.2MB 18.8MB/s \n",
            "\u001b[?25hRequirement already satisfied: numpy in /usr/local/lib/python3.6/dist-packages (from torchtext==0.5) (1.19.5)\n",
            "Requirement already satisfied: requests in /usr/local/lib/python3.6/dist-packages (from torchtext==0.5) (2.23.0)\n",
            "Requirement already satisfied: six in /usr/local/lib/python3.6/dist-packages (from torchtext==0.5) (1.15.0)\n",
            "Requirement already satisfied: tqdm in /usr/local/lib/python3.6/dist-packages (from torchtext==0.5) (4.41.1)\n",
            "Requirement already satisfied: dataclasses in /usr/local/lib/python3.6/dist-packages (from torch->torchtext==0.5) (0.8)\n",
            "Requirement already satisfied: future in /usr/local/lib/python3.6/dist-packages (from torch->torchtext==0.5) (0.16.0)\n",
            "Requirement already satisfied: typing-extensions in /usr/local/lib/python3.6/dist-packages (from torch->torchtext==0.5) (3.7.4.3)\n",
            "Requirement already satisfied: chardet<4,>=3.0.2 in /usr/local/lib/python3.6/dist-packages (from requests->torchtext==0.5) (3.0.4)\n",
            "Requirement already satisfied: idna<3,>=2.5 in /usr/local/lib/python3.6/dist-packages (from requests->torchtext==0.5) (2.10)\n",
            "Requirement already satisfied: certifi>=2017.4.17 in /usr/local/lib/python3.6/dist-packages (from requests->torchtext==0.5) (2020.12.5)\n",
            "Requirement already satisfied: urllib3!=1.25.0,!=1.25.1,<1.26,>=1.21.1 in /usr/local/lib/python3.6/dist-packages (from requests->torchtext==0.5) (1.24.3)\n",
            "Installing collected packages: sentencepiece, torchtext\n",
            "  Found existing installation: torchtext 0.3.1\n",
            "    Uninstalling torchtext-0.3.1:\n",
            "      Successfully uninstalled torchtext-0.3.1\n",
            "Successfully installed sentencepiece-0.1.95 torchtext-0.5.0\n"
          ],
          "name": "stdout"
        }
      ]
    },
    {
      "cell_type": "markdown",
      "metadata": {
        "id": "9Ae9TDxEFEmZ"
      },
      "source": [
        "___"
      ]
    },
    {
      "cell_type": "markdown",
      "metadata": {
        "id": "UkE4DQiiFEmZ"
      },
      "source": [
        "Данное задание состоит из единственной части. Вам предстоит построить систему машинного перевода с русского на английский язык, т.е. для языковой пары RU-EN.\n",
        "\n",
        "Базовое решение на основе RNN уже реализовано.\n",
        "\n",
        "__Цель данного задания__: проанализирвать различные подходы к построению более качественной системы машинного перевода. В данном задании у вас достаточно широкий простор для экспериментов. \n",
        "\n",
        "Вы можете воспользоваться одним (или несколькими) из следующих подходов:\n",
        "* Использовать предобученные эмбеддинги для слов (для русского языка они доступны, например, [здесь](http://docs.deeppavlov.ai/en/master/features/pretrained_vectors.html))\n",
        "* Воспользоваться сверточной сетью в качестве энкодера\n",
        "* Добавить механизм внимания (attention) для используемой архитектуры\n",
        "* Предобучить языковые модели для исходного и целевого языков и затем перейти к задаче перевода\n",
        "* Воспользоваться архитектурой Transformer\n",
        "* Использовать предобученный BERT в качестве энкодера\n",
        "* Или описать и использовать свою собственную идею.\n",
        "\n",
        "__Основное ограничение__: использование того или иного подхода должно быть обосновано, а результаты должны быть тщательно проанализированы.\n",
        "\n",
        "Более подробное описание задач доступно после baseline-решения."
      ]
    },
    {
      "cell_type": "markdown",
      "metadata": {
        "id": "OxHkeO4uFEma"
      },
      "source": [
        "___"
      ]
    },
    {
      "cell_type": "markdown",
      "metadata": {
        "id": "Lytinry8FEma"
      },
      "source": [
        "##### Комментарий:\n",
        "Рекомендуем перенести класс(ы) используемой архитектуры/слоев в файл `my_network.py`, а в ноутбуке оставить непосредственно графики и эксперименты.\n",
        "\n",
        "Для технических функций можно воспользоваться `utils.py`.\n",
        "\n",
        "В данных файлах уже доступна базовая архитектура и некоторые технические функции.\n",
        "\n",
        "_Если при загрузке обнолвенной версии файла возникнут проблемы, можно воспользоваться модулем `imp`. В крайнем случае можно перенести код модели и технических функций в ноутбук (но при сдаче задания лучше вынести их в соответствующие файлы и проверить, что необходимые классы и функции корректно импортируются)._\n",
        "\n",
        "__Если вы выполняете задание на Colab, не забывайте сохранять локальные копии как ноутбука, так и сопутствующих файлов (или используйте привязку к Google Drive). Несохраненные файлы могут быть утеряны при долгом простое сессии в Colab.__"
      ]
    },
    {
      "cell_type": "markdown",
      "metadata": {
        "id": "ZRbulPu6FEmb"
      },
      "source": [
        "___\n",
        "\n",
        "Задаче машинного перевода будет решаться на примере данных, доступных ниже. Они представляют собой параллельные корпуса текстов на английском и русском языках.\n",
        "\n",
        "*Выражаем свою благодарность командам tilda и deephack, а также команде ШАД (ссылающейся на tilda и deephack в свою очередь) за предоставленные данные.*"
      ]
    },
    {
      "cell_type": "code",
      "metadata": {
        "id": "NkMt1FwUVHWi"
      },
      "source": [
        "import torch\r\n",
        "import torch.nn as nn\r\n",
        "import torch.optim as optim\r\n",
        "\r\n",
        "import torchtext\r\n",
        "from torchtext.datasets import TranslationDataset, Multi30k\r\n",
        "from torchtext.data import Field, BucketIterator\r\n",
        "\r\n",
        "import random\r\n",
        "import math\r\n",
        "import time"
      ],
      "execution_count": 2,
      "outputs": []
    },
    {
      "cell_type": "code",
      "metadata": {
        "colab": {
          "base_uri": "https://localhost:8080/"
        },
        "id": "gxuUnfN1FEmb",
        "outputId": "43a7cfe0-51d4-4b71-8cda-ae710db0455f"
      },
      "source": [
        "# Thanks to YSDA NLP course team for the data\n",
        "# (who thanks tilda and deephack teams for the data in their turn)\n",
        "\n",
        "print(\"Downloading from github. Loading special files as well\")\n",
        "!wget https://raw.githubusercontent.com/big-data-team/nlp-course/main/materials/HW06_NMT/data.txt -nc\n",
        "path_do_data = './data.txt'"
      ],
      "execution_count": 3,
      "outputs": [
        {
          "output_type": "stream",
          "text": [
            "Downloading from github. Loading special files as well\n",
            "--2021-02-12 22:49:32--  https://raw.githubusercontent.com/big-data-team/nlp-course/main/materials/HW06_NMT/data.txt\n",
            "Resolving raw.githubusercontent.com (raw.githubusercontent.com)... 185.199.111.133, 185.199.109.133, 185.199.110.133, ...\n",
            "Connecting to raw.githubusercontent.com (raw.githubusercontent.com)|185.199.111.133|:443... connected.\n",
            "HTTP request sent, awaiting response... 200 OK\n",
            "Length: 12905334 (12M) [text/plain]\n",
            "Saving to: ‘data.txt’\n",
            "\n",
            "data.txt            100%[===================>]  12.31M  57.5MB/s    in 0.2s    \n",
            "\n",
            "2021-02-12 22:49:33 (57.5 MB/s) - ‘data.txt’ saved [12905334/12905334]\n",
            "\n"
          ],
          "name": "stdout"
        }
      ]
    },
    {
      "cell_type": "markdown",
      "metadata": {
        "id": "2CPDM3iNFEmd"
      },
      "source": [
        "Также загрузим файлы `utils.py` и `my_network.py`. __Не забудьте их сохранить, если вносите в них изменения!__"
      ]
    },
    {
      "cell_type": "code",
      "metadata": {
        "colab": {
          "base_uri": "https://localhost:8080/"
        },
        "id": "gofYzv7IFEmd",
        "outputId": "b72bae92-4012-4677-94f9-8045075f2a34"
      },
      "source": [
        "print(\"Downloading `utils.py` file from github.\")\n",
        "!wget https://raw.githubusercontent.com/big-data-team/nlp-course/main/materials/HW06_NMT/utils.py -nc\n",
        "\n",
        "\n",
        "print(\"Downloading `my_network.py` file from github.\")\n",
        "!wget https://raw.githubusercontent.com/big-data-team/nlp-course/main/materials/HW06_NMT/my_network.py -nc"
      ],
      "execution_count": 4,
      "outputs": [
        {
          "output_type": "stream",
          "text": [
            "Downloading `utils.py` file from github.\n",
            "--2021-02-12 22:49:33--  https://raw.githubusercontent.com/big-data-team/nlp-course/main/materials/HW06_NMT/utils.py\n",
            "Resolving raw.githubusercontent.com (raw.githubusercontent.com)... 185.199.110.133, 185.199.111.133, 185.199.108.133, ...\n",
            "Connecting to raw.githubusercontent.com (raw.githubusercontent.com)|185.199.110.133|:443... connected.\n",
            "HTTP request sent, awaiting response... 200 OK\n",
            "Length: 932 [text/plain]\n",
            "Saving to: ‘utils.py’\n",
            "\n",
            "utils.py            100%[===================>]     932  --.-KB/s    in 0s      \n",
            "\n",
            "2021-02-12 22:49:34 (68.5 MB/s) - ‘utils.py’ saved [932/932]\n",
            "\n",
            "Downloading `my_network.py` file from github.\n",
            "--2021-02-12 22:49:34--  https://raw.githubusercontent.com/big-data-team/nlp-course/main/materials/HW06_NMT/my_network.py\n",
            "Resolving raw.githubusercontent.com (raw.githubusercontent.com)... 185.199.108.133, 185.199.109.133, 185.199.110.133, ...\n",
            "Connecting to raw.githubusercontent.com (raw.githubusercontent.com)|185.199.108.133|:443... connected.\n",
            "HTTP request sent, awaiting response... 200 OK\n",
            "Length: 5997 (5.9K) [text/plain]\n",
            "Saving to: ‘my_network.py’\n",
            "\n",
            "my_network.py       100%[===================>]   5.86K  --.-KB/s    in 0s      \n",
            "\n",
            "2021-02-12 22:49:34 (80.0 MB/s) - ‘my_network.py’ saved [5997/5997]\n",
            "\n"
          ],
          "name": "stdout"
        }
      ]
    },
    {
      "cell_type": "code",
      "metadata": {
        "id": "6dQijTi1FEme"
      },
      "source": [
        "import torch\n",
        "import torch.nn as nn\n",
        "import torch.optim as optim\n",
        "\n",
        "import torchtext\n",
        "from torchtext.datasets import TranslationDataset, Multi30k\n",
        "from torchtext.data import Field, BucketIterator\n",
        "\n",
        "import spacy\n",
        "\n",
        "import random\n",
        "import math\n",
        "import time\n",
        "\n",
        "import tqdm\n",
        "\n",
        "import matplotlib\n",
        "matplotlib.rcParams.update({'figure.figsize': (16, 12), 'font.size': 14})\n",
        "import matplotlib.pyplot as plt\n",
        "%matplotlib inline\n",
        "from IPython.display import clear_output\n",
        "\n",
        "from nltk.tokenize import WordPunctTokenizer\n",
        "from nltk.translate.bleu_score import corpus_bleu\n",
        "\n",
        "import my_network\n",
        "import utils"
      ],
      "execution_count": 7,
      "outputs": []
    },
    {
      "cell_type": "markdown",
      "metadata": {
        "id": "hdG8Ul_yFEme"
      },
      "source": [
        "### Предобработка данных.\n",
        "Базовая предобработка данных сделана за вас. Для токенизации используется простой `WordPunctTokenizer` из `nltk`. Вы можете воспользоваться более сложными токенизаторами, реализовав собственные функции для токенизации."
      ]
    },
    {
      "cell_type": "code",
      "metadata": {
        "id": "ggTJti8gFEme"
      },
      "source": [
        "DEFAULT_TOKENIZER = WordPunctTokenizer()\n",
        "\n",
        "def tokenize(x, tokenizer=DEFAULT_TOKENIZER):\n",
        "    return tokenizer.tokenize(x.lower())"
      ],
      "execution_count": 8,
      "outputs": []
    },
    {
      "cell_type": "markdown",
      "metadata": {
        "id": "EjU1o9deFEmf"
      },
      "source": [
        "Создадим `Field` для исходного и целевого языков. Все данные приводятся к нижнему регистру. "
      ]
    },
    {
      "cell_type": "code",
      "metadata": {
        "id": "lshDvfo8FEmf"
      },
      "source": [
        "SRC = Field(tokenize=tokenize,\n",
        "            init_token = '<sos>', \n",
        "            eos_token = '<eos>', \n",
        "            lower = True)\n",
        "\n",
        "TRG = Field(tokenize=tokenize,\n",
        "            init_token = '<sos>', \n",
        "            eos_token = '<eos>', \n",
        "            lower = True)"
      ],
      "execution_count": 9,
      "outputs": []
    },
    {
      "cell_type": "markdown",
      "metadata": {
        "id": "OixZUTwnFEmg"
      },
      "source": [
        "Для загрузки собственного датасета в подходящем формате воспользуемся `torchtext.data.TabularDataset`. В качестве разделителя используется табуляция, поэтому указанный формат: `tsv`."
      ]
    },
    {
      "cell_type": "code",
      "metadata": {
        "id": "Su2Rq6Z7FEmh"
      },
      "source": [
        "dataset = torchtext.data.TabularDataset(\n",
        "    path=path_do_data,\n",
        "    format='tsv',\n",
        "    fields=[('trg', TRG), ('src', SRC)]\n",
        ")"
      ],
      "execution_count": 10,
      "outputs": []
    },
    {
      "cell_type": "markdown",
      "metadata": {
        "id": "p18ZELF5FEmh"
      },
      "source": [
        "Разобьем данные на обучающую, валидационную и тестовую выборки.\n",
        "\n",
        "*Комментарий: обращаем ваше внимание, random seed не зафиксирован. Для получения воспроизводимых результатов запусков вы можете его зафиксировать*."
      ]
    },
    {
      "cell_type": "code",
      "metadata": {
        "id": "Ig5nHJJSFEmh"
      },
      "source": [
        "train_data, valid_data, test_data = dataset.split(split_ratio=[0.8, 0.15, 0.05])"
      ],
      "execution_count": 11,
      "outputs": []
    },
    {
      "cell_type": "code",
      "metadata": {
        "colab": {
          "base_uri": "https://localhost:8080/"
        },
        "id": "vGwpC9QsFEmi",
        "outputId": "e2891257-3b1e-48c8-fbd3-70fb2695a154"
      },
      "source": [
        "print(f\"Размер обучающей выборки: {len(train_data.examples)}\")\n",
        "print(f\"Размер валидационной выборки: {len(valid_data.examples)}\")\n",
        "print(f\"Размер тестовой выборки: {len(test_data.examples)}\")"
      ],
      "execution_count": 12,
      "outputs": [
        {
          "output_type": "stream",
          "text": [
            "Размер обучающей выборки: 40000\n",
            "Размер валидационной выборки: 2500\n",
            "Размер тестовой выборки: 7500\n"
          ],
          "name": "stdout"
        }
      ]
    },
    {
      "cell_type": "markdown",
      "metadata": {
        "id": "FB_JyQvpFEmi"
      },
      "source": [
        "Построим словарь, используя токены, которые встречались не менее трех раз."
      ]
    },
    {
      "cell_type": "code",
      "metadata": {
        "id": "tcVjKZ2YFEmj"
      },
      "source": [
        "SRC.build_vocab(train_data, min_freq = 3)\n",
        "TRG.build_vocab(train_data, min_freq = 3)"
      ],
      "execution_count": 13,
      "outputs": []
    },
    {
      "cell_type": "code",
      "metadata": {
        "colab": {
          "base_uri": "https://localhost:8080/"
        },
        "id": "od83g4SBFEmj",
        "outputId": "e415b792-45eb-4e22-b553-29d5d98fb60a"
      },
      "source": [
        "print(f\"Количество уникальных токенов в русском словаре: {len(SRC.vocab)}\")\n",
        "print(f\"Количество уникальных токенов в английском словаре: {len(TRG.vocab)}\")"
      ],
      "execution_count": 14,
      "outputs": [
        {
          "output_type": "stream",
          "text": [
            "Количество уникальных токенов в русском словаре: 9244\n",
            "Количество уникальных токенов в английском словаре: 6693\n"
          ],
          "name": "stdout"
        }
      ]
    },
    {
      "cell_type": "markdown",
      "metadata": {
        "id": "EbHKFrqqFEmk"
      },
      "source": [
        "Несколько слов из русского словаря:"
      ]
    },
    {
      "cell_type": "code",
      "metadata": {
        "colab": {
          "base_uri": "https://localhost:8080/"
        },
        "id": "I_nf5nZ8FEmk",
        "outputId": "9a951457-3d2e-4202-ad56-e489a6d61cf1"
      },
      "source": [
        "SRC.vocab.itos[::1000]"
      ],
      "execution_count": 15,
      "outputs": [
        {
          "output_type": "execute_result",
          "data": {
            "text/plain": [
              "['<unk>',\n",
              " 'palace',\n",
              " 'четырехзвездочный',\n",
              " 'кухонной',\n",
              " 'der',\n",
              " 'центральное',\n",
              " 'isola',\n",
              " 'уолта',\n",
              " 'доступно',\n",
              " 'тенистой']"
            ]
          },
          "metadata": {
            "tags": []
          },
          "execution_count": 15
        }
      ]
    },
    {
      "cell_type": "markdown",
      "metadata": {
        "id": "XuJpEHNjFEml"
      },
      "source": [
        "И из английского словаря:"
      ]
    },
    {
      "cell_type": "code",
      "metadata": {
        "colab": {
          "base_uri": "https://localhost:8080/"
        },
        "id": "NbjmNJ51FEml",
        "outputId": "adc31ee2-47d0-4de5-c173-7a95ad3c2b59"
      },
      "source": [
        "TRG.vocab.itos[::1000]"
      ],
      "execution_count": 16,
      "outputs": [
        {
          "output_type": "execute_result",
          "data": {
            "text/plain": [
              "['<unk>', 'breakfasts', 'fresco', 'done', 'midlands', 'southeast', 'manta']"
            ]
          },
          "metadata": {
            "tags": []
          },
          "execution_count": 16
        }
      ]
    },
    {
      "cell_type": "markdown",
      "metadata": {
        "id": "HMEvIe1kFEml"
      },
      "source": [
        "Пример из обучающей выборки:"
      ]
    },
    {
      "cell_type": "code",
      "metadata": {
        "colab": {
          "base_uri": "https://localhost:8080/"
        },
        "id": "nuJwQQwUFEmm",
        "outputId": "d6ba2fbe-4368-4a6d-bd2a-cef6f0f505cc"
      },
      "source": [
        "print(vars(train_data.examples[9]))"
      ],
      "execution_count": 17,
      "outputs": [
        {
          "output_type": "stream",
          "text": [
            "{'trg': ['the', 'property', 'offers', 'free', 'parking', '.'], 'src': ['гости', 'могут', 'воспользоваться', 'бесплатной', 'парковкой', '.']}\n"
          ],
          "name": "stdout"
        }
      ]
    },
    {
      "cell_type": "markdown",
      "metadata": {
        "id": "2Rqzq3IcFEmm"
      },
      "source": [
        "Как видим, в данных в том числе присутствуют имена собственные и слова из других языков."
      ]
    },
    {
      "cell_type": "markdown",
      "metadata": {
        "id": "BJ99YcuyFEmm"
      },
      "source": [
        "Построим диаграммы распределений длин предложений в данных (в символах):"
      ]
    },
    {
      "cell_type": "code",
      "metadata": {
        "colab": {
          "base_uri": "https://localhost:8080/",
          "height": 298
        },
        "id": "L5fNBCTeFEmn",
        "outputId": "8b84ada8-c697-4b52-a22b-c35f2c08d599"
      },
      "source": [
        "src_length = map(len, [vars(x)['src'] for x in train_data.examples])\n",
        "trg_length = map(len, [vars(x)['trg'] for x in train_data.examples])\n",
        "\n",
        "print('Распределение длин текстов в обучающих данных')\n",
        "plt.figure(figsize=[8, 4])\n",
        "plt.subplot(1, 2, 1)\n",
        "plt.title(\"Длина исходного текста (в символах)\")\n",
        "plt.hist(list(src_length), bins=20);\n",
        "\n",
        "plt.subplot(1, 2, 2)\n",
        "plt.title(\"Длина перевода (в символах)\")\n",
        "plt.hist(list(trg_length), bins=20);"
      ],
      "execution_count": null,
      "outputs": [
        {
          "output_type": "stream",
          "text": [
            "Распределение длин текстов в обучающих данных\n"
          ],
          "name": "stdout"
        },
        {
          "output_type": "display_data",
          "data": {
            "image/png": "[encoded data removed]",
            "text/plain": [
              "<Figure size 576x288 with 2 Axes>"
            ]
          },
          "metadata": {
            "tags": [],
            "needs_background": "light"
          }
        }
      ]
    },
    {
      "cell_type": "code",
      "metadata": {
        "colab": {
          "base_uri": "https://localhost:8080/",
          "height": 298
        },
        "id": "0YKOdLloFEmn",
        "outputId": "75fe3842-0468-44d2-f9ad-afe33388e879"
      },
      "source": [
        "src_length = map(len, [vars(x)['src'] for x in test_data.examples])\n",
        "trg_length = map(len, [vars(x)['trg'] for x in test_data.examples])\n",
        "\n",
        "print('Распределение длин текстов в тестовых данных')\n",
        "plt.figure(figsize=[8, 4])\n",
        "plt.subplot(1, 2, 1)\n",
        "plt.title(\"Длина исходного текста (в символах)\")\n",
        "plt.hist(list(src_length), bins=20);\n",
        "\n",
        "plt.subplot(1, 2, 2)\n",
        "plt.title(\"Длина перевода (в символах)\")\n",
        "plt.hist(list(trg_length), bins=20);"
      ],
      "execution_count": null,
      "outputs": [
        {
          "output_type": "stream",
          "text": [
            "Распределение длин текстов в тестовых данных\n"
          ],
          "name": "stdout"
        },
        {
          "output_type": "display_data",
          "data": {
            "image/png": "[encoded data removed]",
            "text/plain": [
              "<Figure size 576x288 with 2 Axes>"
            ]
          },
          "metadata": {
            "tags": [],
            "needs_background": "light"
          }
        }
      ]
    },
    {
      "cell_type": "markdown",
      "metadata": {
        "id": "xRdgvvwoFEmq"
      },
      "source": [
        "### Базовое решение\n",
        "Простое решение на основе RNN представлено ниже."
      ]
    },
    {
      "cell_type": "code",
      "metadata": {
        "id": "32OPKr-QFEmq"
      },
      "source": [
        "device = torch.device('cuda' if torch.cuda.is_available() else 'cpu')"
      ],
      "execution_count": 18,
      "outputs": []
    },
    {
      "cell_type": "code",
      "metadata": {
        "colab": {
          "base_uri": "https://localhost:8080/"
        },
        "id": "-pQzSwGtFEmr",
        "outputId": "4eaed789-b2bb-48dd-fb63-d0fea74a4275"
      },
      "source": [
        "print(device)"
      ],
      "execution_count": 19,
      "outputs": [
        {
          "output_type": "stream",
          "text": [
            "cuda\n"
          ],
          "name": "stdout"
        }
      ]
    },
    {
      "cell_type": "markdown",
      "metadata": {
        "id": "RKEdi3nsFEms"
      },
      "source": [
        "Параметр `sort_key` указывает, по какому принципу упорядочивать последовательности. В данном случае учитывается длина предложения на русском языке."
      ]
    },
    {
      "cell_type": "code",
      "metadata": {
        "id": "dKactu1DFEms"
      },
      "source": [
        "def _len_sort_key(x):\n",
        "    return len(x.src)\n",
        "\n",
        "BATCH_SIZE = 128\n",
        "\n",
        "train_iterator, valid_iterator, test_iterator = BucketIterator.splits(\n",
        "    (train_data, valid_data, test_data), \n",
        "    batch_size = BATCH_SIZE, \n",
        "    device = device,\n",
        "    sort_key=_len_sort_key\n",
        ")"
      ],
      "execution_count": 20,
      "outputs": []
    },
    {
      "cell_type": "markdown",
      "metadata": {
        "id": "OGxXZkfFFEms"
      },
      "source": [
        "Проверим, что данные корректно прочитаны."
      ]
    },
    {
      "cell_type": "code",
      "metadata": {
        "colab": {
          "base_uri": "https://localhost:8080/"
        },
        "id": "nAbV7x8mFEmt",
        "outputId": "61c3e6c3-ec6f-4e8d-8dee-596a15852ee2"
      },
      "source": [
        "x = next(iter(train_iterator))\n",
        "\n",
        "print(x)\n",
        "print(x.src.shape, x.trg.shape)"
      ],
      "execution_count": 21,
      "outputs": [
        {
          "output_type": "stream",
          "text": [
            "\n",
            "[torchtext.data.batch.Batch of size 128]\n",
            "\t[.trg]:[torch.cuda.LongTensor of size 38x128 (GPU 0)]\n",
            "\t[.src]:[torch.cuda.LongTensor of size 43x128 (GPU 0)]\n",
            "torch.Size([43, 128]) torch.Size([38, 128])\n"
          ],
          "name": "stdout"
        }
      ]
    },
    {
      "cell_type": "markdown",
      "metadata": {
        "id": "GuldUd_HFEmt"
      },
      "source": [
        "Обращаем ваше внимание на размерность батча: `(seq_length, batch_size)`"
      ]
    },
    {
      "cell_type": "markdown",
      "metadata": {
        "id": "2clVCr0_FEmt"
      },
      "source": [
        "Ниже доступно базовое решение."
      ]
    },
    {
      "cell_type": "code",
      "metadata": {
        "id": "_u8zfFR4FEmt"
      },
      "source": [
        "Encoder = my_network.Encoder\n",
        "Decoder = my_network.Decoder\n",
        "Seq2Seq = my_network.Seq2Seq"
      ],
      "execution_count": null,
      "outputs": []
    },
    {
      "cell_type": "code",
      "metadata": {
        "id": "xpkGcxTmFEmu"
      },
      "source": [
        "INPUT_DIM = len(SRC.vocab)\n",
        "OUTPUT_DIM = len(TRG.vocab)\n",
        "ENC_EMB_DIM = 256\n",
        "DEC_EMB_DIM = 256\n",
        "HID_DIM = 512\n",
        "N_LAYERS = 2\n",
        "ENC_DROPOUT = 0.5\n",
        "DEC_DROPOUT = 0.5\n",
        "\n",
        "enc = Encoder(INPUT_DIM, ENC_EMB_DIM, HID_DIM, N_LAYERS, ENC_DROPOUT)\n",
        "dec = Decoder(OUTPUT_DIM, DEC_EMB_DIM, HID_DIM, N_LAYERS, DEC_DROPOUT)\n",
        "\n",
        "# dont forget to put the model to the right device\n",
        "model = Seq2Seq(enc, dec, device).to(device)"
      ],
      "execution_count": null,
      "outputs": []
    },
    {
      "cell_type": "markdown",
      "metadata": {
        "id": "XT1xQbS4FEmv"
      },
      "source": [
        "Явно проинициализируем веса равномерным распределением."
      ]
    },
    {
      "cell_type": "code",
      "metadata": {
        "colab": {
          "base_uri": "https://localhost:8080/"
        },
        "id": "QMq0G7MlFEmv",
        "outputId": "17e3b9a9-61c3-4512-b192-1570d5838604"
      },
      "source": [
        "def init_weights(m):\n",
        "    for name, param in m.named_parameters():\n",
        "        nn.init.uniform_(param, -0.08, 0.08)\n",
        "        \n",
        "model.apply(init_weights)"
      ],
      "execution_count": null,
      "outputs": [
        {
          "output_type": "execute_result",
          "data": {
            "text/plain": [
              "Seq2Seq(\n",
              "  (encoder): Encoder(\n",
              "    (embedding): Embedding(9267, 256)\n",
              "    (rnn): LSTM(256, 512, num_layers=2, dropout=0.5)\n",
              "    (dropout): Dropout(p=0.5, inplace=False)\n",
              "  )\n",
              "  (decoder): Decoder(\n",
              "    (embedding): Embedding(6715, 256)\n",
              "    (rnn): LSTM(256, 512, num_layers=2, dropout=0.5)\n",
              "    (out): Linear(in_features=512, out_features=6715, bias=True)\n",
              "    (dropout): Dropout(p=0.5, inplace=False)\n",
              "  )\n",
              ")"
            ]
          },
          "metadata": {
            "tags": []
          },
          "execution_count": 23
        }
      ]
    },
    {
      "cell_type": "markdown",
      "metadata": {
        "id": "sUhJWtpgFEmv"
      },
      "source": [
        "Оценим количество параметров в модели."
      ]
    },
    {
      "cell_type": "code",
      "metadata": {
        "colab": {
          "base_uri": "https://localhost:8080/"
        },
        "id": "I-Nyhvn2FEmv",
        "outputId": "24a5a9c9-f6a8-4cfc-d1ab-48ddb1c4e298"
      },
      "source": [
        "def count_parameters(model):\n",
        "    return sum(p.numel() for p in model.parameters() if p.requires_grad)\n",
        "\n",
        "print(f'В модели {count_parameters(model):,} параметров')"
      ],
      "execution_count": null,
      "outputs": [
        {
          "output_type": "stream",
          "text": [
            "В модели 14,892,603 параметров\n"
          ],
          "name": "stdout"
        }
      ]
    },
    {
      "cell_type": "markdown",
      "metadata": {
        "id": "HKJfHEa-FEmv"
      },
      "source": [
        "Не забывайте про указание `<pad>`-токена в функции потерь. "
      ]
    },
    {
      "cell_type": "code",
      "metadata": {
        "id": "SowVVPynFEmw"
      },
      "source": [
        "PAD_IDX = TRG.vocab.stoi['<pad>']\n",
        "optimizer = optim.Adam(model.parameters())\n",
        "criterion = nn.CrossEntropyLoss(ignore_index = PAD_IDX)"
      ],
      "execution_count": null,
      "outputs": []
    },
    {
      "cell_type": "markdown",
      "metadata": {
        "id": "pNXXX5jaFEmw"
      },
      "source": [
        "Базовый код для обучения модели доступен ниже. Обращаем ваше внимание, в данном случае Tensorboard не используется. Рекомендуем воспользоваться наработками с семинара и переключиться на него ;)"
      ]
    },
    {
      "cell_type": "code",
      "metadata": {
        "id": "lPTospRHFEmw"
      },
      "source": [
        "def train(model, iterator, optimizer, criterion, clip, train_history=None, valid_history=None):\n",
        "    model.train()\n",
        "    \n",
        "    epoch_loss = 0\n",
        "    history = []\n",
        "    for i, batch in enumerate(iterator):\n",
        "        \n",
        "        src = batch.src\n",
        "        trg = batch.trg\n",
        "        \n",
        "        optimizer.zero_grad()\n",
        "        \n",
        "        output = model(src, trg)\n",
        "        \n",
        "        #trg = [trg sent len, batch size]\n",
        "        #output = [trg sent len, batch size, output dim]\n",
        "        \n",
        "        output = output[1:].view(-1, output.shape[-1])\n",
        "        trg = trg[1:].view(-1)\n",
        "        \n",
        "        #trg = [(trg sent len - 1) * batch size]\n",
        "        #output = [(trg sent len - 1) * batch size, output dim]\n",
        "        \n",
        "        loss = criterion(output, trg)\n",
        "        \n",
        "        loss.backward()\n",
        "        \n",
        "        # Let's clip the gradient\n",
        "        torch.nn.utils.clip_grad_norm_(model.parameters(), clip)\n",
        "        \n",
        "        optimizer.step()\n",
        "        \n",
        "        epoch_loss += loss.item()\n",
        "        \n",
        "        history.append(loss.cpu().data.numpy())\n",
        "        if (i+1)%10==0:\n",
        "            fig, ax = plt.subplots(nrows=1, ncols=2, figsize=(12, 8))\n",
        "\n",
        "            clear_output(True)\n",
        "            ax[0].plot(history, label='train loss')\n",
        "            ax[0].set_xlabel('Batch')\n",
        "            ax[0].set_title('Train loss')\n",
        "            if train_history is not None:\n",
        "                ax[1].plot(train_history, label='general train history')\n",
        "                ax[1].set_xlabel('Epoch')\n",
        "            if valid_history is not None:\n",
        "                ax[1].plot(valid_history, label='general valid history')\n",
        "            plt.legend()\n",
        "            \n",
        "            plt.show()\n",
        "\n",
        "        \n",
        "    return epoch_loss / len(iterator)"
      ],
      "execution_count": 22,
      "outputs": []
    },
    {
      "cell_type": "code",
      "metadata": {
        "id": "V89T6YGgFEmw"
      },
      "source": [
        "def evaluate(model, iterator, criterion):\n",
        "    \n",
        "    model.eval()\n",
        "    \n",
        "    epoch_loss = 0\n",
        "    \n",
        "    history = []\n",
        "    \n",
        "    with torch.no_grad():\n",
        "    \n",
        "        for i, batch in enumerate(iterator):\n",
        "\n",
        "            src = batch.src\n",
        "            trg = batch.trg\n",
        "\n",
        "            output = model(src, trg, 0) #turn off teacher forcing\n",
        "\n",
        "            #trg = [trg sent len, batch size]\n",
        "            #output = [trg sent len, batch size, output dim]\n",
        "\n",
        "            output = output[1:].view(-1, output.shape[-1])\n",
        "            trg = trg[1:].view(-1)\n",
        "\n",
        "            #trg = [(trg sent len - 1) * batch size]\n",
        "            #output = [(trg sent len - 1) * batch size, output dim]\n",
        "\n",
        "            loss = criterion(output, trg)\n",
        "            \n",
        "            epoch_loss += loss.item()\n",
        "        \n",
        "    return epoch_loss / len(iterator)"
      ],
      "execution_count": 23,
      "outputs": []
    },
    {
      "cell_type": "markdown",
      "metadata": {
        "id": "v1cf0kFwFEmw"
      },
      "source": [
        "Функция ниже поможет преобразовать время в минуты и секунды."
      ]
    },
    {
      "cell_type": "code",
      "metadata": {
        "id": "Q_Nk-UghFEmx"
      },
      "source": [
        "def epoch_time(start_time, end_time):\n",
        "    elapsed_time = end_time - start_time\n",
        "    elapsed_mins = int(elapsed_time / 60)\n",
        "    elapsed_secs = int(elapsed_time - (elapsed_mins * 60))\n",
        "    return elapsed_mins, elapsed_secs"
      ],
      "execution_count": 24,
      "outputs": []
    },
    {
      "cell_type": "markdown",
      "metadata": {
        "id": "XRtPF83SFEmx"
      },
      "source": [
        "Сам процесс обучения доступен ниже."
      ]
    },
    {
      "cell_type": "code",
      "metadata": {
        "id": "yRPT9WBRFEmx"
      },
      "source": [
        "train_history = []\n",
        "valid_history = []\n",
        "\n",
        "N_EPOCHS = 10\n",
        "CLIP = 1\n",
        "\n",
        "best_valid_loss = float('inf')"
      ],
      "execution_count": null,
      "outputs": []
    },
    {
      "cell_type": "code",
      "metadata": {
        "id": "i1KrWHC7FEmx",
        "outputId": "4a38ee15-0396-485c-a9e9-8a5eef2e5894"
      },
      "source": [
        "for epoch in range(N_EPOCHS):\n",
        "    \n",
        "    start_time = time.time()\n",
        "    \n",
        "    train_loss = train(model, train_iterator, optimizer, criterion, CLIP, train_history, valid_history)\n",
        "    valid_loss = evaluate(model, valid_iterator, criterion)\n",
        "    \n",
        "    end_time = time.time()\n",
        "    \n",
        "    epoch_mins, epoch_secs = epoch_time(start_time, end_time)\n",
        "    \n",
        "    if valid_loss < best_valid_loss:\n",
        "        best_valid_loss = valid_loss\n",
        "        torch.save(model.state_dict(), 'tut1-model.pt')\n",
        "    \n",
        "    train_history.append(train_loss)\n",
        "    valid_history.append(valid_loss)\n",
        "    print(f'Epoch: {epoch+1:02} | Time: {epoch_mins}m {epoch_secs}s')\n",
        "    print(f'\\tTrain Loss: {train_loss:.3f} | Train PPL: {math.exp(train_loss):7.3f}')\n",
        "    print(f'\\t Val. Loss: {valid_loss:.3f} |  Val. PPL: {math.exp(valid_loss):7.3f}')"
      ],
      "execution_count": null,
      "outputs": [
        {
          "output_type": "display_data",
          "data": {
            "image/png": "[encoded data removed]",
            "text/plain": [
              "<Figure size 864x576 with 2 Axes>"
            ]
          },
          "metadata": {
            "tags": []
          }
        },
        {
          "output_type": "stream",
          "text": [
            "Epoch: 10 | Time: 1m 9s\n",
            "\tTrain Loss: 2.920 | Train PPL:  18.536\n",
            "\t Val. Loss: 4.602 |  Val. PPL:  99.673\n"
          ],
          "name": "stdout"
        }
      ]
    },
    {
      "cell_type": "markdown",
      "metadata": {
        "id": "Us5z4VCrFEmx"
      },
      "source": [
        "__Оценка качества работы модели__:"
      ]
    },
    {
      "cell_type": "code",
      "metadata": {
        "id": "d7z9B5_fFEmy"
      },
      "source": [
        "# if updated code is not loading, try using the `imp` module\n",
        "# import utils\n",
        "# import imp\n",
        "# imp.reload(utils)\n",
        "generate_translation = utils.generate_translation\n",
        "remove_tech_tokens = utils.remove_tech_tokens\n",
        "get_text = utils.get_text\n",
        "flatten = utils.flatten"
      ],
      "execution_count": null,
      "outputs": []
    },
    {
      "cell_type": "code",
      "metadata": {
        "id": "WH4EDKm8FEmy"
      },
      "source": [
        "batch = next(iter(test_iterator))"
      ],
      "execution_count": null,
      "outputs": []
    },
    {
      "cell_type": "markdown",
      "metadata": {
        "id": "axS5exSuEsd-"
      },
      "source": [
        ""
      ]
    },
    {
      "cell_type": "code",
      "metadata": {
        "id": "VX09nNqDFEmy",
        "outputId": "4126a88c-81c4-4c7f-b707-77e81eb279ab"
      },
      "source": [
        "for idx in [1,2]:\n",
        "    src = batch.src[:, idx:idx+1]\n",
        "    trg = batch.trg[:, idx:idx+1]\n",
        "    generate_translation(src, trg, model, TRG.vocab)"
      ],
      "execution_count": null,
      "outputs": [
        {
          "output_type": "stream",
          "text": [
            "Original: the property offers free parking .\n",
            "Generated: free private parking is available on site .\n",
            "\n",
            "Original: free wifi access is available here . santa lucia hill is a 10 - minute car ride away .\n",
            "Generated: the rooms have free wi - fi .\n",
            "\n"
          ],
          "name": "stdout"
        }
      ]
    },
    {
      "cell_type": "markdown",
      "metadata": {
        "id": "etuDHo7-FEmy"
      },
      "source": [
        "В библиотеке `nltk` также доступна функция `corpus_bleu` для оценки BLEU на целом корпусе. Ее короткое описание доступно ниже. Она уже импортирована в начале ноутбука, строка с импортом приведена для справки."
      ]
    },
    {
      "cell_type": "code",
      "metadata": {
        "id": "JwhPCrQeFEmy"
      },
      "source": [
        "# from nltk.translate.bleu_score import corpus_bleu\n",
        "\n",
        "\n",
        "#     \"\"\" Estimates corpora-level BLEU score of model's translations given inp and reference out \"\"\"\n",
        "#     translations, _ = model.translate_lines(inp_lines, **flags)\n",
        "#     # Note: if you experience out-of-memory error, split input lines into batches and translate separately\n",
        "#     return corpus_bleu([[ref] for ref in out_lines], translations) * 100"
      ],
      "execution_count": null,
      "outputs": []
    },
    {
      "cell_type": "code",
      "metadata": {
        "id": "lPBTGj8zFEmz",
        "outputId": "8920acf1-eb11-4cfd-d386-d3c51ca57c27"
      },
      "source": [
        "original_text = []\n",
        "generated_text = []\n",
        "model.eval()\n",
        "with torch.no_grad():\n",
        "\n",
        "    for i, batch in tqdm.tqdm(enumerate(test_iterator)):\n",
        "\n",
        "        src = batch.src\n",
        "        trg = batch.trg\n",
        "\n",
        "        output = model(src, trg, 0) #turn off teacher forcing\n",
        "\n",
        "        #trg = [trg sent len, batch size]\n",
        "        #output = [trg sent len, batch size, output dim]\n",
        "\n",
        "        output = output.argmax(dim=-1)\n",
        "        \n",
        "        original_text.extend([get_text(x, TRG.vocab) for x in trg.cpu().numpy().T])\n",
        "        generated_text.extend([get_text(x, TRG.vocab) for x in output[1:].cpu().numpy().T])"
      ],
      "execution_count": null,
      "outputs": [
        {
          "output_type": "stream",
          "text": [
            "59it [00:02, 22.19it/s]\n"
          ],
          "name": "stderr"
        }
      ]
    },
    {
      "cell_type": "code",
      "metadata": {
        "id": "4mqCHn8RFEmz",
        "outputId": "c0876d20-ae09-4a93-fd49-6dd20d3e562a"
      },
      "source": [
        "corpus_bleu([[text] for text in original_text], generated_text) * 100"
      ],
      "execution_count": null,
      "outputs": [
        {
          "output_type": "execute_result",
          "data": {
            "text/plain": [
              "14.032097690264637"
            ]
          },
          "metadata": {
            "tags": []
          },
          "execution_count": 43
        }
      ]
    },
    {
      "cell_type": "markdown",
      "metadata": {
        "id": "hm8Mt4ff9ypU"
      },
      "source": [
        "___"
      ]
    },
    {
      "cell_type": "markdown",
      "metadata": {
        "id": "aQ4Pr_FS91hr"
      },
      "source": [
        "\n",
        "__Ваша задача__: Используйте как минимум четыре различных подхода (помимо уже доступного baseline-решения). Сравните полученные результаты между собой используя подходящие критерии качества (BLEU/Perplexity/...). Оцените степень переобучения в каждом из экспериментов. Оцените скорость обучения и применения (inference'а) каждой из моделей в пересчете на один батч размером 32.\n",
        "\n",
        "Сделайте короткое описание экспериментов и проиллюстрируйте их с помощью графиков.\n",
        "\n",
        "Эксперименты должны удовлетворять следующим ограничениям:\n",
        "\n",
        "1. Хотя бы в одном эксперименте используются позиционные эмбеддинги с Transformer Encoder или CNN в качестве энкодера. Производится сравнение качества перевода одной и той же архитектурой с и без позиционных эмбеддингов.\n",
        "\n",
        "**Внимание, при использовании предобученной модели в качестве энкодера исключать позиционные эмбеддинги (если они уже есть) не стоит. Модель уже была обучена работать информацией определенной природы, и изменение природы данных приведет к значительному снижению качества.** В данном эксперименте лучше использовать простую CNN/Transformer архитектуру, обученную с нуля.\n",
        "\n",
        "2. Хотя бы в одном эксперименте используется Transformer Decoder в качестве декодера (или модель сходной архитектуры, например, GPT).\n",
        "3. Каждый эксперимент проиллюстрирован графиками, присутствует описание идеи, которая послужила поводом для его проведения.\n",
        "4. Для каждого эксперимента произведена оценка времени работы в режиме inference усредненная для батча размера 32 и батча размера 1."
      ]
    },
    {
      "cell_type": "markdown",
      "metadata": {
        "id": "SJVsYDA3FEmz"
      },
      "source": [
        "Качество базового решения можно значительно увеличить. Попробуйте достичь как минимум BLEU=__24__ на тестовых данных. Отличным результатом можете считать BLEU=__28__ и выше."
      ]
    },
    {
      "cell_type": "markdown",
      "metadata": {
        "id": "usbdGk7WFEmz"
      },
      "source": [
        "___"
      ]
    },
    {
      "cell_type": "markdown",
      "metadata": {
        "id": "c65UiDENFEm0"
      },
      "source": [
        "### Эксперимент №1 (22.5%)\n",
        "__Гипотеза:__ Тут не было особой гипотезы, просто для сравнения качества было проще использовать ГРУ, так как меньше нужно было париться с хидден слоем, и проще реализовать пол него CNN autoencoder"
      ]
    },
    {
      "cell_type": "code",
      "metadata": {
        "id": "shFxS02wfEwj"
      },
      "source": [
        "Encoder = Encoder_GRU\r\n",
        "Decoder = Decoder_GRU\r\n",
        "Seq2Seq = Seq2Seq_GRU"
      ],
      "execution_count": 144,
      "outputs": []
    },
    {
      "cell_type": "code",
      "metadata": {
        "id": "XyZjcN5D6WCo"
      },
      "source": [
        "INPUT_DIM = len(SRC.vocab)\r\n",
        "OUTPUT_DIM = len(TRG.vocab)\r\n",
        "ENC_EMB_DIM = 256\r\n",
        "DEC_EMB_DIM = 256\r\n",
        "HID_DIM = 512\r\n",
        "N_LAYERS = 2\r\n",
        "ENC_DROPOUT = 0.5\r\n",
        "DEC_DROPOUT = 0.5\r\n",
        "\r\n",
        "enc = Encoder(INPUT_DIM, ENC_EMB_DIM, HID_DIM, N_LAYERS, ENC_DROPOUT)\r\n",
        "dec = Decoder(OUTPUT_DIM, DEC_EMB_DIM, HID_DIM, N_LAYERS, DEC_DROPOUT)\r\n",
        "\r\n",
        "# dont forget to put the model to the right device\r\n",
        "model = Seq2Seq(enc, dec, device).to(device)"
      ],
      "execution_count": 145,
      "outputs": []
    },
    {
      "cell_type": "code",
      "metadata": {
        "colab": {
          "base_uri": "https://localhost:8080/"
        },
        "id": "JnYSJrUr6YK8",
        "outputId": "9281fbed-f6e2-476e-b0d5-a945bde1032d"
      },
      "source": [
        "def init_weights(m):\r\n",
        "    for name, param in m.named_parameters():\r\n",
        "        nn.init.uniform_(param, -0.08, 0.08)\r\n",
        "        \r\n",
        "model.apply(init_weights)"
      ],
      "execution_count": 146,
      "outputs": [
        {
          "output_type": "execute_result",
          "data": {
            "text/plain": [
              "Seq2Seq_GRU(\n",
              "  (encoder): Encoder_GRU(\n",
              "    (embedding): Embedding(9244, 256)\n",
              "    (rnn): GRU(256, 512, num_layers=2, dropout=0.5)\n",
              "    (dropout): Dropout(p=0.5, inplace=False)\n",
              "  )\n",
              "  (decoder): Decoder_GRU(\n",
              "    (embedding): Embedding(6693, 256)\n",
              "    (rnn): GRU(256, 512, num_layers=2, dropout=0.5)\n",
              "    (out): Linear(in_features=512, out_features=6693, bias=True)\n",
              "    (dropout): Dropout(p=0.5, inplace=False)\n",
              "  )\n",
              ")"
            ]
          },
          "metadata": {
            "tags": []
          },
          "execution_count": 146
        }
      ]
    },
    {
      "cell_type": "code",
      "metadata": {
        "colab": {
          "base_uri": "https://localhost:8080/"
        },
        "id": "Q8y7Nfzn6Zp7",
        "outputId": "c6f31405-dcc3-4e69-bb13-47b62e0041ee"
      },
      "source": [
        "def count_parameters(model):\r\n",
        "    return sum(p.numel() for p in model.parameters() if p.requires_grad)\r\n",
        "\r\n",
        "print(f'В модели {count_parameters(model):,} параметров')"
      ],
      "execution_count": 147,
      "outputs": [
        {
          "output_type": "stream",
          "text": [
            "В модели 13,030,693 параметров\n"
          ],
          "name": "stdout"
        }
      ]
    },
    {
      "cell_type": "code",
      "metadata": {
        "id": "fc8TBGFs6bzJ"
      },
      "source": [
        "PAD_IDX = TRG.vocab.stoi['<pad>']\r\n",
        "optimizer = optim.Adam(model.parameters())\r\n",
        "criterion = nn.CrossEntropyLoss(ignore_index = PAD_IDX)"
      ],
      "execution_count": 148,
      "outputs": []
    },
    {
      "cell_type": "code",
      "metadata": {
        "id": "YjqxVe5G6hKr"
      },
      "source": [
        "train_history = []\r\n",
        "valid_history = []\r\n",
        "\r\n",
        "N_EPOCHS = 10\r\n",
        "CLIP = 1\r\n",
        "\r\n",
        "best_valid_loss = float('inf')"
      ],
      "execution_count": 149,
      "outputs": []
    },
    {
      "cell_type": "code",
      "metadata": {
        "id": "fNlnwLOV6jzw",
        "colab": {
          "base_uri": "https://localhost:8080/",
          "height": 563
        },
        "outputId": "2187dec6-662b-475a-f085-be8e5baf360f"
      },
      "source": [
        "for epoch in range(10):\r\n",
        "    \r\n",
        "    start_time = time.time()\r\n",
        "    \r\n",
        "    train_loss = train(model, train_iterator, optimizer, criterion, CLIP, train_history, valid_history)\r\n",
        "    valid_loss = evaluate(model, valid_iterator, criterion)\r\n",
        "    \r\n",
        "    end_time = time.time()\r\n",
        "    \r\n",
        "    epoch_mins, epoch_secs = epoch_time(start_time, end_time)\r\n",
        "    \r\n",
        "    if valid_loss < best_valid_loss:\r\n",
        "        best_valid_loss = valid_loss\r\n",
        "        torch.save(model.state_dict(), 'tut1-model.pt')\r\n",
        "    \r\n",
        "    train_history.append(train_loss)\r\n",
        "    valid_history.append(valid_loss)\r\n",
        "    print(f'Epoch: {epoch+1:02} | Time: {epoch_mins}m {epoch_secs}s')\r\n",
        "    print(f'\\tTrain Loss: {train_loss:.3f} | Train PPL: {math.exp(train_loss):7.3f}')\r\n",
        "    print(f'\\t Val. Loss: {valid_loss:.3f} |  Val. PPL: {math.exp(valid_loss):7.3f}')"
      ],
      "execution_count": 150,
      "outputs": [
        {
          "output_type": "display_data",
          "data": {
            "image/png": "[encoded data removed]",
            "text/plain": [
              "<Figure size 864x576 with 2 Axes>"
            ]
          },
          "metadata": {
            "tags": [],
            "needs_background": "light"
          }
        },
        {
          "output_type": "stream",
          "text": [
            "Epoch: 10 | Time: 1m 18s\n",
            "\tTrain Loss: 2.576 | Train PPL:  13.142\n",
            "\t Val. Loss: 4.598 |  Val. PPL:  99.306\n"
          ],
          "name": "stdout"
        }
      ]
    },
    {
      "cell_type": "code",
      "metadata": {
        "id": "yd1tGIPe-ROV"
      },
      "source": [
        "# if updated code is not loading, try using the `imp` module\r\n",
        "# import utils\r\n",
        "# import imp\r\n",
        "# imp.reload(utils)\r\n",
        "generate_translation = utils.generate_translation\r\n",
        "remove_tech_tokens = utils.remove_tech_tokens\r\n",
        "get_text = utils.get_text\r\n",
        "flatten = utils.flatten"
      ],
      "execution_count": 151,
      "outputs": []
    },
    {
      "cell_type": "code",
      "metadata": {
        "id": "7l4HALDO-VSN"
      },
      "source": [
        "batch = next(iter(test_iterator))"
      ],
      "execution_count": 152,
      "outputs": []
    },
    {
      "cell_type": "code",
      "metadata": {
        "colab": {
          "base_uri": "https://localhost:8080/"
        },
        "id": "gp3exf2w-YQL",
        "outputId": "4c8b783b-9b25-4cf8-c938-e7239ecd842d"
      },
      "source": [
        "for idx in [1,2]:\r\n",
        "    src = batch.src[:, idx:idx+1]\r\n",
        "    trg = batch.trg[:, idx:idx+1]\r\n",
        "    generate_translation(src, trg, model, TRG.vocab)"
      ],
      "execution_count": 153,
      "outputs": [
        {
          "output_type": "stream",
          "text": [
            "Original: guests can enjoy the on - site restaurant .\n",
            "Generated: guests can enjoy the on - site restaurant .\n",
            "\n",
            "Original: guests benefit from terrace .\n",
            "Generated: terrace .\n",
            "\n"
          ],
          "name": "stdout"
        }
      ]
    },
    {
      "cell_type": "code",
      "metadata": {
        "colab": {
          "base_uri": "https://localhost:8080/"
        },
        "id": "OdK9DpBq-m8T",
        "outputId": "52967583-bb90-4e8a-a535-b2b4000b8598"
      },
      "source": [
        "original_text = []\r\n",
        "generated_text = []\r\n",
        "model.eval()\r\n",
        "with torch.no_grad():\r\n",
        "\r\n",
        "    for i, batch in tqdm.tqdm(enumerate(test_iterator)):\r\n",
        "\r\n",
        "        src = batch.src\r\n",
        "        trg = batch.trg\r\n",
        "\r\n",
        "        output = model(src, trg, 0) #turn off teacher forcing\r\n",
        "\r\n",
        "        #trg = [trg sent len, batch size]\r\n",
        "        #output = [trg sent len, batch size, output dim]\r\n",
        "\r\n",
        "        output = output.argmax(dim=-1)\r\n",
        "        \r\n",
        "        original_text.extend([get_text(x, TRG.vocab) for x in trg.cpu().numpy().T])\r\n",
        "        generated_text.extend([get_text(x, TRG.vocab) for x in output[1:].cpu().numpy().T])"
      ],
      "execution_count": 154,
      "outputs": [
        {
          "output_type": "stream",
          "text": [
            "59it [00:03, 16.38it/s]\n"
          ],
          "name": "stderr"
        }
      ]
    },
    {
      "cell_type": "code",
      "metadata": {
        "colab": {
          "base_uri": "https://localhost:8080/"
        },
        "id": "9n208W0m-q-4",
        "outputId": "247a5bfe-5c12-4cf6-f0ef-e62b59273611"
      },
      "source": [
        "corpus_bleu([[text] for text in original_text], generated_text) * 100"
      ],
      "execution_count": 155,
      "outputs": [
        {
          "output_type": "execute_result",
          "data": {
            "text/plain": [
              "19.790181224269716"
            ]
          },
          "metadata": {
            "tags": []
          },
          "execution_count": 155
        }
      ]
    },
    {
      "cell_type": "markdown",
      "metadata": {
        "id": "bbMX6acqFEm0"
      },
      "source": [
        "___"
      ]
    },
    {
      "cell_type": "markdown",
      "metadata": {
        "id": "PsIsvtELFEm0"
      },
      "source": [
        "### Эксперимент №2 (22.5%)\n",
        "__Гипотеза:__ Попробовать CNN енкодер, так как тексты большие и можно вынести много информации из биграммов. В CNN использовались окна размерами 2,3,4,5. Плюс, как мне кажется, CNN не так сильно нужны позиционные енкодинги, так как мы все равно берем макс пулинг по слоям. "
      ]
    },
    {
      "cell_type": "code",
      "metadata": {
        "id": "tvckS7m7_mj2"
      },
      "source": [
        "Encoder = Encoder_CNN\r\n",
        "Decoder = Decoder_GRU\r\n",
        "Seq2Seq = Seq2Seq_GRU"
      ],
      "execution_count": null,
      "outputs": []
    },
    {
      "cell_type": "code",
      "metadata": {
        "colab": {
          "base_uri": "https://localhost:8080/"
        },
        "id": "cIwiTNZ8_vKn",
        "outputId": "bc7a9432-01c5-421e-b2b9-8ad8bbb7293d"
      },
      "source": [
        "INPUT_DIM = len(SRC.vocab)\r\n",
        "OUTPUT_DIM = len(TRG.vocab)\r\n",
        "ENC_EMB_DIM = 256\r\n",
        "DEC_EMB_DIM = 256\r\n",
        "NUM_FILTERS = 256\r\n",
        "HID_DIM = 512\r\n",
        "N_LAYERS = 1\r\n",
        "ENC_DROPOUT = 0.5\r\n",
        "DEC_DROPOUT = 0.5\r\n",
        "\r\n",
        "enc = Encoder(INPUT_DIM, HID_DIM, ENC_EMB_DIM, NUM_FILTERS, ENC_DROPOUT, N_LAYERS, 2, ngram_filter_sizes=(2, 3, 4, 5)) #(self, input_dim, out_dim, emb_dim, num_filters, dropout, stride, ngram_filter_sizes=(2, 3, 4, 5))\r\n",
        "dec = Decoder(OUTPUT_DIM, DEC_EMB_DIM, HID_DIM, N_LAYERS, DEC_DROPOUT)\r\n",
        "\r\n",
        "# dont forget to put the model to the right device\r\n",
        "model = Seq2Seq(enc, dec, device).to(device)"
      ],
      "execution_count": null,
      "outputs": [
        {
          "output_type": "stream",
          "text": [
            "/usr/local/lib/python3.6/dist-packages/torch/nn/modules/rnn.py:61: UserWarning: dropout option adds dropout after all but last recurrent layer, so non-zero dropout expects num_layers greater than 1, but got dropout=0.5 and num_layers=1\n",
            "  \"num_layers={}\".format(dropout, num_layers))\n"
          ],
          "name": "stderr"
        }
      ]
    },
    {
      "cell_type": "code",
      "metadata": {
        "colab": {
          "base_uri": "https://localhost:8080/"
        },
        "id": "nRfY2jcaF8vO",
        "outputId": "9c7bad30-efdd-4850-c07d-0030f55f64e2"
      },
      "source": [
        "def init_weights(m):\r\n",
        "    for name, param in m.named_parameters():\r\n",
        "        nn.init.uniform_(param, -0.08, 0.08)\r\n",
        "        \r\n",
        "model.apply(init_weights)"
      ],
      "execution_count": null,
      "outputs": [
        {
          "output_type": "execute_result",
          "data": {
            "text/plain": [
              "Seq2Seq_GRU(\n",
              "  (encoder): Encoder_CNN(\n",
              "    (dropout): Dropout(p=0.5, inplace=False)\n",
              "    (embedding): Embedding(9261, 256)\n",
              "    (conv_1): Conv1d(256, 256, kernel_size=(2,), stride=(2,))\n",
              "    (conv_2): Conv1d(256, 256, kernel_size=(3,), stride=(2,))\n",
              "    (conv_3): Conv1d(256, 256, kernel_size=(4,), stride=(2,))\n",
              "    (conv_4): Conv1d(256, 256, kernel_size=(5,), stride=(2,))\n",
              "    (fc): Linear(in_features=1024, out_features=512, bias=True)\n",
              "  )\n",
              "  (decoder): Decoder_GRU(\n",
              "    (embedding): Embedding(6744, 256)\n",
              "    (rnn): GRU(256, 512, dropout=0.5)\n",
              "    (out): Linear(in_features=512, out_features=6744, bias=True)\n",
              "    (dropout): Dropout(p=0.5, inplace=False)\n",
              "  )\n",
              ")"
            ]
          },
          "metadata": {
            "tags": []
          },
          "execution_count": 149
        }
      ]
    },
    {
      "cell_type": "code",
      "metadata": {
        "colab": {
          "base_uri": "https://localhost:8080/"
        },
        "id": "p9XKts26GGaH",
        "outputId": "fa55d05c-e1de-422d-f972-57602fa7188f"
      },
      "source": [
        "def count_parameters(model):\r\n",
        "    return sum(p.numel() for p in model.parameters() if p.requires_grad)\r\n",
        "\r\n",
        "print(f'В модели {count_parameters(model):,} параметров')"
      ],
      "execution_count": null,
      "outputs": [
        {
          "output_type": "stream",
          "text": [
            "В модели 10,183,000 параметров\n"
          ],
          "name": "stdout"
        }
      ]
    },
    {
      "cell_type": "code",
      "metadata": {
        "id": "LJ7FzH2LGJmb"
      },
      "source": [
        "PAD_IDX = TRG.vocab.stoi['<pad>']\r\n",
        "optimizer = optim.Adam(model.parameters())\r\n",
        "criterion = nn.CrossEntropyLoss(ignore_index = PAD_IDX)"
      ],
      "execution_count": null,
      "outputs": []
    },
    {
      "cell_type": "code",
      "metadata": {
        "id": "tbS1r27AGLlt"
      },
      "source": [
        "train_history = []\r\n",
        "valid_history = []\r\n",
        "\r\n",
        "N_EPOCHS = 10\r\n",
        "CLIP = 1\r\n",
        "\r\n",
        "best_valid_loss = float('inf')"
      ],
      "execution_count": null,
      "outputs": []
    },
    {
      "cell_type": "code",
      "metadata": {
        "colab": {
          "base_uri": "https://localhost:8080/",
          "height": 563
        },
        "id": "plU9S_lXGOWm",
        "outputId": "07a118f2-859f-429f-f1a8-c1ef1f213126"
      },
      "source": [
        "for epoch in range(10):\r\n",
        "    \r\n",
        "    start_time = time.time()\r\n",
        "    \r\n",
        "    train_loss = train(model, train_iterator, optimizer, criterion, CLIP, train_history, valid_history)\r\n",
        "    valid_loss = evaluate(model, valid_iterator, criterion)\r\n",
        "    \r\n",
        "    end_time = time.time()\r\n",
        "    \r\n",
        "    epoch_mins, epoch_secs = epoch_time(start_time, end_time)\r\n",
        "    \r\n",
        "    if valid_loss < best_valid_loss:\r\n",
        "        best_valid_loss = valid_loss\r\n",
        "        torch.save(model.state_dict(), 'tut1-model.pt')\r\n",
        "    \r\n",
        "    train_history.append(train_loss)\r\n",
        "    valid_history.append(valid_loss)\r\n",
        "    print(f'Epoch: {epoch+1:02} | Time: {epoch_mins}m {epoch_secs}s')\r\n",
        "    print(f'\\tTrain Loss: {train_loss:.3f} | Train PPL: {math.exp(train_loss):7.3f}')\r\n",
        "    print(f'\\t Val. Loss: {valid_loss:.3f} |  Val. PPL: {math.exp(valid_loss):7.3f}')"
      ],
      "execution_count": null,
      "outputs": [
        {
          "output_type": "display_data",
          "data": {
            "image/png": "[encoded data removed]",
            "text/plain": [
              "<Figure size 864x576 with 2 Axes>"
            ]
          },
          "metadata": {
            "tags": [],
            "needs_background": "light"
          }
        },
        {
          "output_type": "stream",
          "text": [
            "Epoch: 10 | Time: 1m 9s\n",
            "\tTrain Loss: 2.187 | Train PPL:   8.909\n",
            "\t Val. Loss: 4.399 |  Val. PPL:  81.380\n"
          ],
          "name": "stdout"
        }
      ]
    },
    {
      "cell_type": "code",
      "metadata": {
        "id": "aGI3xgZLQ2N2"
      },
      "source": [
        "# if updated code is not loading, try using the `imp` module\r\n",
        "# import utils\r\n",
        "# import imp\r\n",
        "# imp.reload(utils)\r\n",
        "generate_translation = utils.generate_translation\r\n",
        "remove_tech_tokens = utils.remove_tech_tokens\r\n",
        "get_text = utils.get_text\r\n",
        "flatten = utils.flatten"
      ],
      "execution_count": null,
      "outputs": []
    },
    {
      "cell_type": "code",
      "metadata": {
        "id": "M2udRqR3Q9zI"
      },
      "source": [
        "batch = next(iter(test_iterator))"
      ],
      "execution_count": null,
      "outputs": []
    },
    {
      "cell_type": "code",
      "metadata": {
        "colab": {
          "base_uri": "https://localhost:8080/"
        },
        "id": "x_X6Yi0lRAgw",
        "outputId": "13c82781-e275-41c4-86c4-026b645d7071"
      },
      "source": [
        "for idx in [1,2]:\r\n",
        "    src = batch.src[:, idx:idx+1]\r\n",
        "    trg = batch.trg[:, idx:idx+1]\r\n",
        "    generate_translation(src, trg, model, TRG.vocab)"
      ],
      "execution_count": null,
      "outputs": [
        {
          "output_type": "stream",
          "text": [
            "Original: you will find a 24 - hour front desk at the property .\n",
            "Generated: there is a 24 - hour front desk at the property .\n",
            "\n",
            "Original: guests benefit from a terrace .\n",
            "Generated: guests benefit from terrace .\n",
            "\n"
          ],
          "name": "stdout"
        }
      ]
    },
    {
      "cell_type": "code",
      "metadata": {
        "id": "_KmFxnc6RE9s",
        "colab": {
          "base_uri": "https://localhost:8080/"
        },
        "outputId": "1bbeb87e-4428-4582-b498-4b31a889d7d7"
      },
      "source": [
        "original_text = []\r\n",
        "generated_text = []\r\n",
        "model.eval()\r\n",
        "with torch.no_grad():\r\n",
        "\r\n",
        "    for i, batch in tqdm.tqdm(enumerate(test_iterator)):\r\n",
        "\r\n",
        "        src = batch.src\r\n",
        "        trg = batch.trg\r\n",
        "\r\n",
        "        output = model(src, trg, 0) #turn off teacher forcing\r\n",
        "\r\n",
        "        #trg = [trg sent len, batch size]\r\n",
        "        #output = [trg sent len, batch size, output dim]\r\n",
        "\r\n",
        "        output = output.argmax(dim=-1)\r\n",
        "        \r\n",
        "        original_text.extend([get_text(x, TRG.vocab) for x in trg.cpu().numpy().T])\r\n",
        "        generated_text.extend([get_text(x, TRG.vocab) for x in output[1:].cpu().numpy().T])"
      ],
      "execution_count": null,
      "outputs": [
        {
          "output_type": "stream",
          "text": [
            "59it [00:03, 18.38it/s]\n"
          ],
          "name": "stderr"
        }
      ]
    },
    {
      "cell_type": "code",
      "metadata": {
        "id": "Fq2Wi0ATRJ1G",
        "colab": {
          "base_uri": "https://localhost:8080/"
        },
        "outputId": "d2f8cc25-db6c-4544-be2b-8f6b10f23ea7"
      },
      "source": [
        "corpus_bleu([[text] for text in original_text], generated_text) * 100"
      ],
      "execution_count": null,
      "outputs": [
        {
          "output_type": "execute_result",
          "data": {
            "text/plain": [
              "23.30969704997825"
            ]
          },
          "metadata": {
            "tags": []
          },
          "execution_count": 158
        }
      ]
    },
    {
      "cell_type": "markdown",
      "metadata": {
        "id": "177cXlK3FEm0"
      },
      "source": [
        "___"
      ]
    },
    {
      "cell_type": "markdown",
      "metadata": {
        "id": "HKm-LG1uFEm1"
      },
      "source": [
        "### Эксперимент №3 (22.5%)\n",
        "__Гипотеза:__ Попробовать Трансформер декодер, потому что это мощная архитектура, которая теоретически может бустануть результаты при переводе. Текстов и их размера по идее должно хватить, чтобы простую архитектуру получилось обучиь."
      ]
    },
    {
      "cell_type": "code",
      "metadata": {
        "id": "2qWALhKzN9kM"
      },
      "source": [
        "from torch.autograd import Variable"
      ],
      "execution_count": null,
      "outputs": []
    },
    {
      "cell_type": "code",
      "metadata": {
        "id": "EkVwVKofpfxy"
      },
      "source": [
        "import numpy as np"
      ],
      "execution_count": null,
      "outputs": []
    },
    {
      "cell_type": "code",
      "metadata": {
        "id": "jGWAMhW5lzbW"
      },
      "source": [
        "Encoder = Encoder_GRU\r\n",
        "Decoder = Decoder_transformer\r\n",
        "Seq2Seq = Seq2Seq_TRANSFORMER"
      ],
      "execution_count": null,
      "outputs": []
    },
    {
      "cell_type": "code",
      "metadata": {
        "colab": {
          "base_uri": "https://localhost:8080/"
        },
        "id": "IgNcWhwXl8CT",
        "outputId": "8819358a-43c1-4d1a-db22-1728bf98bd4e"
      },
      "source": [
        "INPUT_DIM = len(SRC.vocab)\r\n",
        "OUTPUT_DIM = len(TRG.vocab)\r\n",
        "ENC_EMB_DIM = 256\r\n",
        "DEC_EMB_DIM = 256\r\n",
        "HID_DIM = 512\r\n",
        "N_LAYERS = 1\r\n",
        "ENC_DROPOUT = 0.5\r\n",
        "DEC_DROPOUT = 0.5\r\n",
        "num_heads = 8\r\n",
        "\r\n",
        "enc = Encoder(INPUT_DIM, ENC_EMB_DIM, HID_DIM, N_LAYERS, ENC_DROPOUT)\r\n",
        "dec = Decoder(OUTPUT_DIM, DEC_EMB_DIM, HID_DIM, N_LAYERS, DEC_DROPOUT, num_heads)\r\n",
        "\r\n",
        "# dont forget to put the model to the right device\r\n",
        "model = Seq2Seq(enc, dec, device).to(device)"
      ],
      "execution_count": null,
      "outputs": [
        {
          "output_type": "stream",
          "text": [
            "/usr/local/lib/python3.6/dist-packages/torch/nn/modules/rnn.py:61: UserWarning: dropout option adds dropout after all but last recurrent layer, so non-zero dropout expects num_layers greater than 1, but got dropout=0.5 and num_layers=1\n",
            "  \"num_layers={}\".format(dropout, num_layers))\n"
          ],
          "name": "stderr"
        }
      ]
    },
    {
      "cell_type": "code",
      "metadata": {
        "colab": {
          "base_uri": "https://localhost:8080/"
        },
        "id": "7JPX-O6coR1x",
        "outputId": "d3cb50c2-ae3f-40ee-f80d-8678dd66c757"
      },
      "source": [
        "def init_weights(m):\r\n",
        "    for name, param in m.named_parameters():\r\n",
        "        nn.init.uniform_(param, -0.08, 0.08)\r\n",
        "        \r\n",
        "model.apply(init_weights)"
      ],
      "execution_count": null,
      "outputs": [
        {
          "output_type": "execute_result",
          "data": {
            "text/plain": [
              "Seq2Seq_TRANSFORMER(\n",
              "  (encoder): Encoder_GRU(\n",
              "    (embedding): Embedding(9168, 256)\n",
              "    (rnn): GRU(256, 512, dropout=0.5)\n",
              "    (dropout): Dropout(p=0.5, inplace=False)\n",
              "  )\n",
              "  (decoder): Decoder_transformer(\n",
              "    (dropout): Dropout(p=0.5, inplace=False)\n",
              "    (embedding): Embedding(6682, 512)\n",
              "    (pos_encoder): PositionalEncoder()\n",
              "    (transformer_decoder): TransformerDecoder(\n",
              "      (layers): ModuleList(\n",
              "        (0): TransformerDecoderLayer(\n",
              "          (self_attn): MultiheadAttention(\n",
              "            (out_proj): _LinearWithBias(in_features=512, out_features=512, bias=True)\n",
              "          )\n",
              "          (multihead_attn): MultiheadAttention(\n",
              "            (out_proj): _LinearWithBias(in_features=512, out_features=512, bias=True)\n",
              "          )\n",
              "          (linear1): Linear(in_features=512, out_features=2048, bias=True)\n",
              "          (dropout): Dropout(p=0.1, inplace=False)\n",
              "          (linear2): Linear(in_features=2048, out_features=512, bias=True)\n",
              "          (norm1): LayerNorm((512,), eps=1e-05, elementwise_affine=True)\n",
              "          (norm2): LayerNorm((512,), eps=1e-05, elementwise_affine=True)\n",
              "          (norm3): LayerNorm((512,), eps=1e-05, elementwise_affine=True)\n",
              "          (dropout1): Dropout(p=0.1, inplace=False)\n",
              "          (dropout2): Dropout(p=0.1, inplace=False)\n",
              "          (dropout3): Dropout(p=0.1, inplace=False)\n",
              "        )\n",
              "      )\n",
              "    )\n",
              "    (out): Linear(in_features=512, out_features=6682, bias=True)\n",
              "  )\n",
              ")"
            ]
          },
          "metadata": {
            "tags": []
          },
          "execution_count": 36
        }
      ]
    },
    {
      "cell_type": "code",
      "metadata": {
        "colab": {
          "base_uri": "https://localhost:8080/"
        },
        "id": "dABgGW3iolWu",
        "outputId": "4f7c9514-237f-4a69-b8ea-7d79b1897826"
      },
      "source": [
        "def count_parameters(model):\r\n",
        "    return sum(p.numel() for p in model.parameters() if p.requires_grad)\r\n",
        "\r\n",
        "print(f'В модели {count_parameters(model):,} параметров')\r\n",
        "\r\n",
        "PAD_IDX = TRG.vocab.stoi['<pad>']\r\n",
        "optimizer = optim.Adam(model.parameters())\r\n",
        "criterion = nn.CrossEntropyLoss(ignore_index = PAD_IDX)\r\n",
        "\r\n",
        "train_history = []\r\n",
        "valid_history = []\r\n",
        "\r\n",
        "N_EPOCHS = 10\r\n",
        "CLIP = 1\r\n",
        "\r\n",
        "best_valid_loss = float('inf')\r\n"
      ],
      "execution_count": null,
      "outputs": [
        {
          "output_type": "stream",
          "text": [
            "В модели 14,582,810 параметров\n"
          ],
          "name": "stdout"
        }
      ]
    },
    {
      "cell_type": "code",
      "metadata": {
        "id": "J5GLVKWFQjHj"
      },
      "source": [
        ""
      ],
      "execution_count": null,
      "outputs": []
    },
    {
      "cell_type": "code",
      "metadata": {
        "colab": {
          "base_uri": "https://localhost:8080/",
          "height": 563
        },
        "id": "ijf0AIclom2b",
        "outputId": "265ee217-127c-45bc-8b6d-d5012982db36"
      },
      "source": [
        "for epoch in range(10):\r\n",
        "    \r\n",
        "    start_time = time.time()\r\n",
        "    \r\n",
        "    train_loss = train(model, train_iterator, optimizer, criterion, CLIP, train_history, valid_history)\r\n",
        "    valid_loss = evaluate(model, valid_iterator, criterion)\r\n",
        "    \r\n",
        "    end_time = time.time()\r\n",
        "    \r\n",
        "    epoch_mins, epoch_secs = epoch_time(start_time, end_time)\r\n",
        "    \r\n",
        "    if valid_loss < best_valid_loss:\r\n",
        "        best_valid_loss = valid_loss\r\n",
        "        torch.save(model.state_dict(), 'tut1-model.pt')\r\n",
        "    \r\n",
        "    train_history.append(train_loss)\r\n",
        "    valid_history.append(valid_loss)\r\n",
        "    print(f'Epoch: {epoch+1:02} | Time: {epoch_mins}m {epoch_secs}s')\r\n",
        "    print(f'\\tTrain Loss: {train_loss:.3f} | Train PPL: {math.exp(train_loss):7.3f}')\r\n",
        "    print(f'\\t Val. Loss: {valid_loss:.3f} |  Val. PPL: {math.exp(valid_loss):7.3f}')"
      ],
      "execution_count": null,
      "outputs": [
        {
          "output_type": "display_data",
          "data": {
            "image/png": "[encoded data removed]",
            "text/plain": [
              "<Figure size 864x576 with 2 Axes>"
            ]
          },
          "metadata": {
            "tags": [],
            "needs_background": "light"
          }
        },
        {
          "output_type": "stream",
          "text": [
            "Epoch: 10 | Time: 1m 41s\n",
            "\tTrain Loss: 3.234 | Train PPL:  25.379\n",
            "\t Val. Loss: 4.957 |  Val. PPL: 142.191\n"
          ],
          "name": "stdout"
        }
      ]
    },
    {
      "cell_type": "code",
      "metadata": {
        "id": "iiBfXhSGnNEx"
      },
      "source": [
        "# if updated code is not loading, try using the `imp` module\r\n",
        "# import utils\r\n",
        "# import imp\r\n",
        "# imp.reload(utils)\r\n",
        "generate_translation = utils.generate_translation\r\n",
        "remove_tech_tokens = utils.remove_tech_tokens\r\n",
        "get_text = utils.get_text\r\n",
        "flatten = utils.flatten"
      ],
      "execution_count": null,
      "outputs": []
    },
    {
      "cell_type": "code",
      "metadata": {
        "id": "hoqexI_xnTi2"
      },
      "source": [
        "batch = next(iter(test_iterator))"
      ],
      "execution_count": null,
      "outputs": []
    },
    {
      "cell_type": "code",
      "metadata": {
        "colab": {
          "base_uri": "https://localhost:8080/"
        },
        "id": "--Di7toToz9I",
        "outputId": "01f86766-3e5c-4f75-ee6a-67e67d4e3913"
      },
      "source": [
        "trg.shape"
      ],
      "execution_count": null,
      "outputs": [
        {
          "output_type": "execute_result",
          "data": {
            "text/plain": [
              "torch.Size([86, 1])"
            ]
          },
          "metadata": {
            "tags": []
          },
          "execution_count": 50
        }
      ]
    },
    {
      "cell_type": "code",
      "metadata": {
        "colab": {
          "base_uri": "https://localhost:8080/"
        },
        "id": "IS1rInmOpCym",
        "outputId": "5bae3d28-f765-4950-ff8d-9c039ec7891b"
      },
      "source": [
        "batch.trg.shape"
      ],
      "execution_count": null,
      "outputs": [
        {
          "output_type": "execute_result",
          "data": {
            "text/plain": [
              "torch.Size([86, 76])"
            ]
          },
          "metadata": {
            "tags": []
          },
          "execution_count": 53
        }
      ]
    },
    {
      "cell_type": "code",
      "metadata": {
        "colab": {
          "base_uri": "https://localhost:8080/"
        },
        "id": "tRaDEsSWpD96",
        "outputId": "639fef51-fcdb-4de5-c71c-e75aa83b623f"
      },
      "source": [
        "trg.shape"
      ],
      "execution_count": null,
      "outputs": [
        {
          "output_type": "execute_result",
          "data": {
            "text/plain": [
              "torch.Size([86, 1])"
            ]
          },
          "metadata": {
            "tags": []
          },
          "execution_count": 54
        }
      ]
    },
    {
      "cell_type": "code",
      "metadata": {
        "colab": {
          "base_uri": "https://localhost:8080/"
        },
        "id": "GBoDEoEYnWi5",
        "outputId": "9a4c3564-8367-4752-f632-af72e2b02593"
      },
      "source": [
        "for idx in [1]:\r\n",
        "    src = batch.src\r\n",
        "    trg = batch.trg\r\n",
        "    generate_translation(src, trg, model, TRG.vocab)"
      ],
      "execution_count": null,
      "outputs": [
        {
          "output_type": "stream",
          "text": [
            "Original: guests can visit spa at the , . the spa features 12 treatment rooms including a couple ’ s suite and vip suite , locker facilities with showers , sauna , herbal steam and whirlpool , a fitness center and full service salon . the luxurious spa offers signature treatments inspired by traditional chinese ( ), - edge care technology and boutique lines .\n",
            "Generated: offering a restaurant , a restaurant , a restaurant , a restaurant and a restaurant .\n",
            "\n"
          ],
          "name": "stdout"
        }
      ]
    },
    {
      "cell_type": "code",
      "metadata": {
        "colab": {
          "base_uri": "https://localhost:8080/"
        },
        "id": "qWmrxT98ndZc",
        "outputId": "ce64bea2-b167-4e97-9fb8-3fa185729b14"
      },
      "source": [
        "original_text = []\r\n",
        "generated_text = []\r\n",
        "model.eval()\r\n",
        "with torch.no_grad():\r\n",
        "\r\n",
        "    for i, batch in tqdm.tqdm(enumerate(test_iterator)):\r\n",
        "\r\n",
        "        src = batch.src\r\n",
        "        trg = batch.trg\r\n",
        "\r\n",
        "        output = model(src, trg, 0) #turn off teacher forcing\r\n",
        "\r\n",
        "        #trg = [trg sent len, batch size]\r\n",
        "        #output = [trg sent len, batch size, output dim]\r\n",
        "\r\n",
        "        output = output.argmax(dim=-1)\r\n",
        "        \r\n",
        "        original_text.extend([get_text(x, TRG.vocab) for x in trg.cpu().numpy().T])\r\n",
        "        generated_text.extend([get_text(x, TRG.vocab) for x in output[1:].cpu().numpy().T])"
      ],
      "execution_count": null,
      "outputs": [
        {
          "output_type": "stream",
          "text": [
            "59it [00:04, 12.13it/s]\n"
          ],
          "name": "stderr"
        }
      ]
    },
    {
      "cell_type": "code",
      "metadata": {
        "colab": {
          "base_uri": "https://localhost:8080/"
        },
        "id": "FGDtvXKRnhds",
        "outputId": "680947a1-cc14-4790-82c2-b000a9f2413a"
      },
      "source": [
        "corpus_bleu([[text] for text in original_text], generated_text) * 100"
      ],
      "execution_count": null,
      "outputs": [
        {
          "output_type": "execute_result",
          "data": {
            "text/plain": [
              "10.4304633699032"
            ]
          },
          "metadata": {
            "tags": []
          },
          "execution_count": 44
        }
      ]
    },
    {
      "cell_type": "markdown",
      "metadata": {
        "id": "iXJ0-2xZ88ck"
      },
      "source": [
        "### Эксперимент №4 (22.5%)\n",
        "__Гипотеза:__ _ваша замечательная гипотеза_"
      ]
    },
    {
      "cell_type": "code",
      "metadata": {
        "id": "w7MRM0L486iX"
      },
      "source": [
        "# your code, plots and comments here"
      ],
      "execution_count": null,
      "outputs": []
    },
    {
      "cell_type": "markdown",
      "metadata": {
        "id": "TySTwbcZFEm1"
      },
      "source": [
        "___"
      ]
    },
    {
      "cell_type": "markdown",
      "metadata": {
        "id": "dGWXkXbQFEm1"
      },
      "source": [
        "### Выводы (10%):\n",
        "Лучше всего оказались CNN, так как они не особо сложные в плане архитектуры, при этом довольно информативные и относительно быстро учатся, по сравнению с трансформером. Трансформер выдал самые плохие резултаты, скорее всего из-за отсутсвтия тюнинга гиперпараметров, в итоге он очень быстро переобучился и толком ничего не выучил. \n",
        "\n",
        "Аттеншон реализовать у меня не получлось, потому что опять начались расхождения с размерностями: не было полного понимания, что и в какой форме приходит на вход. Такая же проблема была и при реализации трансформера, много времени ушло, чтобы просто понять, что он хочет увидеть на вход, и что вообще вышло из енкодера. Именно фактические значения и размерность, а не в целом их смысл. \n"
      ]
    },
    {
      "cell_type": "markdown",
      "metadata": {
        "id": "P0z2DTsIFEm1"
      },
      "source": [
        "Пожалуйста, оставьте обратную связь о задании [по ссылке](http://rebrand.ly/mfnlp2020q4_feedback_hw06). Она (при желании) анонимна ;)"
      ]
    }
  ]
}