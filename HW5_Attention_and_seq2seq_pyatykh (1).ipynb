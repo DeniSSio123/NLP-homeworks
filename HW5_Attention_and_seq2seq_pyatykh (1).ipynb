{
  "nbformat": 4,
  "nbformat_minor": 0,
  "metadata": {
    "accelerator": "GPU",
    "colab": {
      "name": "Копия блокнота \"HW5_Attention_and_seq2seq.ipynb\"",
      "provenance": [],
      "collapsed_sections": []
    },
    "kernelspec": {
      "display_name": "Python 3",
      "language": "python",
      "name": "python3"
    },
    "language_info": {
      "codemirror_mode": {
        "name": "ipython",
        "version": 3
      },
      "file_extension": ".py",
      "mimetype": "text/x-python",
      "name": "python",
      "nbconvert_exporter": "python",
      "pygments_lexer": "ipython3",
      "version": "3.7.4"
    }
  },
  "cells": [
    {
      "cell_type": "markdown",
      "metadata": {
        "id": "EFu63G9z1kiu"
      },
      "source": [
        "## Домашнее задание №5. Attention & seq2seq\n",
        "Сдача задания производится по адресу `bdt-mf-ml-nlp-2020-q4@bigdatateam.org`\n",
        "\n",
        "В теме письма указать: \"HW5:Seq2Seq. ФИО\"\n",
        "\n",
        "Если какие-то библиотеки недоступны, можно установить их в используемое окружение (environment), например `my_env`, используя пакетный менеджер `pip`: \n",
        "\n",
        "```\n",
        "conda activate my_env\n",
        "pip install pandas \n",
        "```"
      ]
    },
    {
      "cell_type": "markdown",
      "metadata": {
        "id": "6FsNngqxAiU1"
      },
      "source": [
        "Пример настройки окружения и `requirements.txt` доступны в репозитории: https://github.com/big-data-team/nlp-course"
      ]
    },
    {
      "cell_type": "code",
      "metadata": {
        "id": "2zJYf3E_52Lp"
      },
      "source": [
        "import os\n",
        "\n",
        "import numpy as np\n",
        "import random\n",
        "\n",
        "import torch\n",
        "import torch.nn as nn\n",
        "import torch.nn.functional as F\n",
        "\n",
        "import matplotlib.pyplot as plt\n",
        "from IPython.display import clear_output \n",
        "%matplotlib inline"
      ],
      "execution_count": 1,
      "outputs": []
    },
    {
      "cell_type": "markdown",
      "metadata": {
        "id": "u-vj5Aqx7IEK"
      },
      "source": [
        "### Часть 1. Механизма внимания / Attention mechanism (35%)\n",
        "В первой части задания вам предстоит реализовать механизм внимания (и конкретно подсчета attention scores). В реальных задачах основное внимание фокусируется на построении всего пайплайна работы с данными, поэтому в первой части этого задания вам предстоит работать с простыми синтетическими данными. Для реализации Attention нам понадобится только библиотека `numpy`.\n",
        "\n",
        "Вам предстоит реализовать как `dot product` attention (основанный на скалярном произведении), так и `additive` (аддитивный) и `multiplicative` (мультипликативный) варианты. Они различаются лишь способом подсчета attention scores. \n",
        "\n",
        "__Обращаем ваше внимание, при вычислении attention scores не должны использоваться циклы, только векторные/матричные операции__.\n",
        "![](https://raw.githubusercontent.com/neychev/small_DL_repo/master/miscellaneous/attention_types.jpg)"
      ]
    },
    {
      "cell_type": "code",
      "metadata": {
        "id": "_LlM1vd7Pkn0",
        "colab": {
          "base_uri": "https://localhost:8080/",
          "height": 353
        },
        "outputId": "6afafc0a-e1b4-4fee-cd6e-e7bfcf385da4"
      },
      "source": [
        "decoder_hidden_state = np.array([7, 11, 4]).astype(float)[:, None]\n",
        "\n",
        "plt.figure(figsize=(2, 5))\n",
        "plt.pcolormesh(decoder_hidden_state)\n",
        "plt.colorbar()\n",
        "plt.title('Decoder state')"
      ],
      "execution_count": null,
      "outputs": [
        {
          "output_type": "execute_result",
          "data": {
            "text/plain": [
              "Text(0.5, 1.0, 'Decoder state')"
            ]
          },
          "metadata": {
            "tags": []
          },
          "execution_count": 2
        },
        {
          "output_type": "display_data",
          "data": {
            "image/png": "[encoded data removed]",
            "text/plain": [
              "<Figure size 144x360 with 2 Axes>"
            ]
          },
          "metadata": {
            "tags": [],
            "needs_background": "light"
          }
        }
      ]
    },
    {
      "cell_type": "markdown",
      "metadata": {
        "id": "mimQrCYpPkn1"
      },
      "source": [
        "#### Dot product attention (7%)\n",
        "Рассмотрим единственное состояние энкодера. Его размернось [число признаков x 1]"
      ]
    },
    {
      "cell_type": "code",
      "metadata": {
        "id": "xHPmWqcCPkn1",
        "colab": {
          "base_uri": "https://localhost:8080/",
          "height": 341
        },
        "outputId": "862b7fd8-7d15-4b69-9325-990881a0c42a"
      },
      "source": [
        "single_encoder_hidden_state = np.array([1, 5, 11]).astype(float)[:, None]\n",
        "plt.figure(figsize=(2, 5))\n",
        "plt.pcolormesh(single_encoder_hidden_state)\n",
        "plt.colorbar()"
      ],
      "execution_count": null,
      "outputs": [
        {
          "output_type": "execute_result",
          "data": {
            "text/plain": [
              "<matplotlib.colorbar.Colorbar at 0x7f03038284e0>"
            ]
          },
          "metadata": {
            "tags": []
          },
          "execution_count": 3
        },
        {
          "output_type": "display_data",
          "data": {
            "image/png": "[encoded data removed]",
            "text/plain": [
              "<Figure size 144x360 with 2 Axes>"
            ]
          },
          "metadata": {
            "tags": [],
            "needs_background": "light"
          }
        }
      ]
    },
    {
      "cell_type": "markdown",
      "metadata": {
        "id": "rqaPBcFJPkn2"
      },
      "source": [
        "Для подсчета dot product attention score достаточно воспользоваться `np.dot`:"
      ]
    },
    {
      "cell_type": "code",
      "metadata": {
        "id": "sMepAF46Pkn2",
        "colab": {
          "base_uri": "https://localhost:8080/"
        },
        "outputId": "7764462f-b2ac-4a66-840a-26e0d8a1e3bf"
      },
      "source": [
        "np.dot(decoder_hidden_state.T, single_encoder_hidden_state)"
      ],
      "execution_count": null,
      "outputs": [
        {
          "output_type": "execute_result",
          "data": {
            "text/plain": [
              "array([[106.]])"
            ]
          },
          "metadata": {
            "tags": []
          },
          "execution_count": 4
        }
      ]
    },
    {
      "cell_type": "markdown",
      "metadata": {
        "id": "RW8U91ecPkn2"
      },
      "source": [
        "Пусть теперь у нас есть несколько скрытых состояний энкодера:"
      ]
    },
    {
      "cell_type": "code",
      "metadata": {
        "id": "QHgV1wlwPkn3"
      },
      "source": [
        "encoder_hidden_states = np.array([\n",
        "    [1, 5, 11],\n",
        "    [7, 4, 1],\n",
        "    [8, 12, 2],\n",
        "    [-9, 0, 1]\n",
        "    \n",
        "]).astype(float).T"
      ],
      "execution_count": null,
      "outputs": []
    },
    {
      "cell_type": "code",
      "metadata": {
        "id": "kdOYiOLGPkn3",
        "colab": {
          "base_uri": "https://localhost:8080/"
        },
        "outputId": "391649ba-4dc8-4b6c-a4d3-6bab1c429c0c"
      },
      "source": [
        "encoder_hidden_states"
      ],
      "execution_count": null,
      "outputs": [
        {
          "output_type": "execute_result",
          "data": {
            "text/plain": [
              "array([[ 1.,  7.,  8., -9.],\n",
              "       [ 5.,  4., 12.,  0.],\n",
              "       [11.,  1.,  2.,  1.]])"
            ]
          },
          "metadata": {
            "tags": []
          },
          "execution_count": 6
        }
      ]
    },
    {
      "cell_type": "markdown",
      "metadata": {
        "id": "3_JywWN_Pkn4"
      },
      "source": [
        "Каждый столбец соответствует одному из скрытых состояний."
      ]
    },
    {
      "cell_type": "code",
      "metadata": {
        "id": "MQOQFdIMPkn4",
        "colab": {
          "base_uri": "https://localhost:8080/"
        },
        "outputId": "4e4aa497-918f-4f8b-b973-688705c84eb8"
      },
      "source": [
        "np.dot(decoder_hidden_state.T, encoder_hidden_states)#.shape"
      ],
      "execution_count": null,
      "outputs": [
        {
          "output_type": "execute_result",
          "data": {
            "text/plain": [
              "array([[106.,  97., 196., -59.]])"
            ]
          },
          "metadata": {
            "tags": []
          },
          "execution_count": 7
        }
      ]
    },
    {
      "cell_type": "markdown",
      "metadata": {
        "id": "DcQIVIGRPkn4"
      },
      "source": [
        "##### Dot product attention score\n",
        "Реализуйте функцию, которая позволяет посчитать dot product attention scores для всех скрытых состояний энкодера"
      ]
    },
    {
      "cell_type": "code",
      "metadata": {
        "id": "99KTHjOfPkn5"
      },
      "source": [
        "def dot_product_attention_score(decoder_hidden_state, encoder_hidden_states):\n",
        "    '''\n",
        "    decoder_hidden_state: np.array of shape (n_features, 1)\n",
        "    encoder_hidden_states: np.array of shape (n_features, n_states)\n",
        "    \n",
        "    return: np.array of shape (1, n_states)\n",
        "        Array with dot product attention scores\n",
        "    '''\n",
        "    \n",
        "    return np.dot(decoder_hidden_state.T, encoder_hidden_states)"
      ],
      "execution_count": null,
      "outputs": []
    },
    {
      "cell_type": "code",
      "metadata": {
        "id": "ZHRm11PcPkn5",
        "colab": {
          "base_uri": "https://localhost:8080/"
        },
        "outputId": "ecd39ebf-1df0-43d9-b28b-1793e414a34e"
      },
      "source": [
        "dot_product_attention_score(decoder_hidden_state, encoder_hidden_states)"
      ],
      "execution_count": null,
      "outputs": [
        {
          "output_type": "execute_result",
          "data": {
            "text/plain": [
              "array([[106.,  97., 196., -59.]])"
            ]
          },
          "metadata": {
            "tags": []
          },
          "execution_count": 9
        }
      ]
    },
    {
      "cell_type": "markdown",
      "metadata": {
        "id": "McRbKsLAPkn5"
      },
      "source": [
        "##### Softmax\n",
        "Теперь реализуйте функцию softmax. Обращаем ваше внимание, для численной устойчивости из вектора полезно вычесть максимальное значение"
      ]
    },
    {
      "cell_type": "code",
      "metadata": {
        "id": "tj0F0-4VPkn6"
      },
      "source": [
        "def softmax(vector):\n",
        "    '''\n",
        "    vector: np.array of shape (n, m)\n",
        "    \n",
        "    return: np.array of shape (n, m)\n",
        "        Matrix where softmax is computed for every row independently\n",
        "    '''\n",
        "    return vector / vector.sum(axis=1)[:,None]"
      ],
      "execution_count": null,
      "outputs": []
    },
    {
      "cell_type": "code",
      "metadata": {
        "id": "BzDrMkEbPkn6"
      },
      "source": [
        "example_softmax_vector = softmax(dot_product_attention_score(decoder_hidden_state, encoder_hidden_states))"
      ],
      "execution_count": null,
      "outputs": []
    },
    {
      "cell_type": "code",
      "metadata": {
        "id": "p1wZW_XWKvNH",
        "colab": {
          "base_uri": "https://localhost:8080/"
        },
        "outputId": "b456509e-976a-4c34-a638-2197c17c861a"
      },
      "source": [
        "example_softmax_vector"
      ],
      "execution_count": null,
      "outputs": [
        {
          "output_type": "execute_result",
          "data": {
            "text/plain": [
              "array([[ 0.31176471,  0.28529412,  0.57647059, -0.17352941]])"
            ]
          },
          "metadata": {
            "tags": []
          },
          "execution_count": 12
        }
      ]
    },
    {
      "cell_type": "markdown",
      "metadata": {
        "id": "TQo75PoYPkn6"
      },
      "source": [
        "##### Attention vector\n",
        "Используя полученные веса для состояний, вычислите attention vector на основе скрытых состояний энкодера. Затем реализуйте функцию `dot_product_attention`, которая реализует все эти действия вместе."
      ]
    },
    {
      "cell_type": "code",
      "metadata": {
        "id": "u43-lzp-Pkn7",
        "colab": {
          "base_uri": "https://localhost:8080/",
          "height": 341
        },
        "outputId": "c8db9f02-a66f-4c03-9a6b-fcec8864e6bc"
      },
      "source": [
        "attention_vector = example_softmax_vector.dot(encoder_hidden_states.T).T\n",
        "\n",
        "plt.figure(figsize=(2, 5))\n",
        "plt.pcolormesh(attention_vector, cmap='spring')\n",
        "plt.colorbar()"
      ],
      "execution_count": null,
      "outputs": [
        {
          "output_type": "execute_result",
          "data": {
            "text/plain": [
              "<matplotlib.colorbar.Colorbar at 0x7f030374ca20>"
            ]
          },
          "metadata": {
            "tags": []
          },
          "execution_count": 13
        },
        {
          "output_type": "display_data",
          "data": {
            "image/png": "[encoded data removed]",
            "text/plain": [
              "<Figure size 144x360 with 2 Axes>"
            ]
          },
          "metadata": {
            "tags": [],
            "needs_background": "light"
          }
        }
      ]
    },
    {
      "cell_type": "code",
      "metadata": {
        "id": "7b4O0SeIPkn7"
      },
      "source": [
        "def dot_product_attention(decoder_hidden_state, encoder_hidden_states):\n",
        "    '''\n",
        "    decoder_hidden_state: np.array of shape (n_features, 1)\n",
        "    encoder_hidden_states: np.array of shape (n_features, n_states)\n",
        "    \n",
        "    return: np.array of shape (n_features, 1)\n",
        "        Final attention vector\n",
        "    '''\n",
        "    \n",
        "    vector = np.dot(decoder_hidden_state.T, encoder_hidden_states)   \n",
        "    return vector / vector.sum(axis=1)[:,None]"
      ],
      "execution_count": null,
      "outputs": []
    },
    {
      "cell_type": "code",
      "metadata": {
        "colab": {
          "base_uri": "https://localhost:8080/"
        },
        "id": "jh96auSJSgbC",
        "outputId": "261671e0-cb25-497b-bd2f-25bd86fbd24a"
      },
      "source": [
        "dot_product_attention(decoder_hidden_state, encoder_hidden_states)"
      ],
      "execution_count": null,
      "outputs": [
        {
          "output_type": "execute_result",
          "data": {
            "text/plain": [
              "array([[ 0.31176471,  0.28529412,  0.57647059, -0.17352941]])"
            ]
          },
          "metadata": {
            "tags": []
          },
          "execution_count": 15
        }
      ]
    },
    {
      "cell_type": "markdown",
      "metadata": {
        "id": "i0xnbfajPkn7"
      },
      "source": [
        "#### Multiplicative attention (14%)\n",
        "Теперь реализуйте multiplicative attention. В качестве матрицы весов можете использовать `W_mult`. Т.к. multiplicative attention позволяет работать с состояниями энкодера и декодера различных размерностей, состояния энкодера будут обновлены."
      ]
    },
    {
      "cell_type": "code",
      "metadata": {
        "id": "vYkm3IvFPkn8"
      },
      "source": [
        "encoder_hidden_states_complex = np.array([\n",
        "    [1, 5, 11, 4, -4],\n",
        "    [7, 4, 1, 2, 2],\n",
        "    [8, 12, 2, 11, 5],\n",
        "    [-9, 0, 1, 8, 12]\n",
        "    \n",
        "]).astype(float).T\n",
        "\n",
        "W_mult = np.array([\n",
        "    [-0.78, -0.97, -1.09, -1.79,  0.24],\n",
        "    [ 0.04, -0.27, -0.98, -0.49,  0.52],\n",
        "    [ 1.08,  0.91, -0.99,  2.04, -0.15]\n",
        "])"
      ],
      "execution_count": null,
      "outputs": []
    },
    {
      "cell_type": "code",
      "metadata": {
        "id": "NzX_zlvtZrHN"
      },
      "source": [
        ""
      ],
      "execution_count": null,
      "outputs": []
    },
    {
      "cell_type": "code",
      "metadata": {
        "id": "231Qc5vHPkn8"
      },
      "source": [
        "def multiplicative_attention(decoder_hidden_state, encoder_hidden_states, W_mult):\n",
        "    '''\n",
        "    decoder_hidden_state: np.array of shape (n_features_dec, 1)\n",
        "    encoder_hidden_states: np.array of shape (n_features_enc, n_states)\n",
        "    W_mult: np.array of shape (n_features_dec, n_features_enc)\n",
        "    \n",
        "    return: np.array of shape (n_features_enc, 1)\n",
        "        Final attention vector\n",
        "    '''\n",
        "    \n",
        "    vector = np.dot(np.dot(decoder_hidden_state.T, W_mult), encoder_hidden_states)\n",
        "    return vector / vector.sum(axis=1)[:,None]"
      ],
      "execution_count": null,
      "outputs": []
    },
    {
      "cell_type": "code",
      "metadata": {
        "colab": {
          "base_uri": "https://localhost:8080/"
        },
        "id": "qrftzMSeaMtm",
        "outputId": "641497fc-c1a9-483a-d460-53ee37446f2c"
      },
      "source": [
        "multiplicative_attention(decoder_hidden_state, encoder_hidden_states_complex, W_mult)"
      ],
      "execution_count": null,
      "outputs": [
        {
          "output_type": "execute_result",
          "data": {
            "text/plain": [
              "array([[0.56240077, 0.09439089, 0.32266723, 0.02054111]])"
            ]
          },
          "metadata": {
            "tags": []
          },
          "execution_count": 18
        }
      ]
    },
    {
      "cell_type": "markdown",
      "metadata": {
        "id": "Ewhnq-svPkn9"
      },
      "source": [
        "#### Additive attention (14%)\n",
        "И наконец реализуйте additive attention. В качестве матриц весов можете использовать `W_add_enc` и `W_add_dec`. В качестве вектора весов можете использовать `v_add`. Также можно воспользоваться `np.tanh`."
      ]
    },
    {
      "cell_type": "code",
      "metadata": {
        "id": "-zrM1KMfPkn9"
      },
      "source": [
        "v_add = np.array([[-0.35, -0.58,  0.07,  1.39, -0.79, -1.78, -0.35]]).T\n",
        "\n",
        "W_add_enc = np.array([\n",
        "    [-1.34, -0.1 , -0.38,  0.12, -0.34],\n",
        "    [-1.  ,  1.28,  0.49, -0.41, -0.32],\n",
        "    [-0.39, -1.38,  1.26,  1.21,  0.15],\n",
        "    [-0.18,  0.04,  1.36, -1.18, -0.53],\n",
        "    [-0.23,  0.96,  1.02,  0.39, -1.26],\n",
        "    [-1.27,  0.89, -0.85, -0.01, -1.19],\n",
        "    [ 0.46, -0.12, -0.86, -0.93, -0.4 ]\n",
        "])\n",
        "\n",
        "W_add_dec = np.array([\n",
        "    [-1.62, -0.02, -0.39],\n",
        "    [ 0.43,  0.61, -0.23],\n",
        "    [-1.5 , -0.43, -0.91],\n",
        "    [-0.14,  0.03,  0.05],\n",
        "    [ 0.85,  0.51,  0.63],\n",
        "    [ 0.39, -0.42,  1.34],\n",
        "    [-0.47, -0.31, -1.34]\n",
        "])"
      ],
      "execution_count": null,
      "outputs": []
    },
    {
      "cell_type": "code",
      "metadata": {
        "id": "iv4iYzJfPkn9"
      },
      "source": [
        "def additive_attention(decoder_hidden_state, encoder_hidden_states, v_add, W_add_enc, W_add_dec):\n",
        "    '''\n",
        "    decoder_hidden_state: np.array of shape (n_features_dec, 1)\n",
        "    encoder_hidden_states: np.array of shape (n_features_enc, n_states)\n",
        "    v_add: np.array of shape (n_features_int, 1)\n",
        "    W_add_enc: np.array of shape (n_features_int, n_features_enc)\n",
        "    W_add_dec: np.array of shape (n_features_int, n_features_dec)\n",
        "    \n",
        "    return: np.array of shape (n_features_enc, 1)\n",
        "        Final attention vector\n",
        "    '''\n",
        "    \n",
        "    vector = np.dot(v_add.T, np.tanh(np.dot(W_add_dec, decoder_hidden_state) + np.dot(W_add_enc, encoder_hidden_states)))   \n",
        "    return vector / vector.sum(axis=1)[:,None]"
      ],
      "execution_count": null,
      "outputs": []
    },
    {
      "cell_type": "code",
      "metadata": {
        "colab": {
          "base_uri": "https://localhost:8080/"
        },
        "id": "zjraUNlCXsVY",
        "outputId": "2b689322-bd0d-4949-a489-0d3cdb67bd37"
      },
      "source": [
        "additive_attention(decoder_hidden_state, encoder_hidden_states_complex, v_add, W_add_enc, W_add_dec)"
      ],
      "execution_count": null,
      "outputs": [
        {
          "output_type": "execute_result",
          "data": {
            "text/plain": [
              "array([[0.31771039, 0.10350777, 0.10463829, 0.47414355]])"
            ]
          },
          "metadata": {
            "tags": []
          },
          "execution_count": 21
        }
      ]
    },
    {
      "cell_type": "markdown",
      "metadata": {
        "id": "vnd2_Qf1Pkn9"
      },
      "source": [
        "______"
      ]
    },
    {
      "cell_type": "markdown",
      "metadata": {
        "id": "S0386ot9Pkn-"
      },
      "source": [
        "Поздравляем! Конечно, в реальных задачах часто используются уже готовые реализации Attention: это еще один классический слой, различные варианты которого доступны для большинства популярных фреймворков.\n",
        "\n",
        "Впереди вас ждет вторая часть задания."
      ]
    },
    {
      "cell_type": "markdown",
      "metadata": {
        "id": "P8TbJkA5Pkn-"
      },
      "source": [
        "### Часть 2. Seq2seq (65%)\n",
        "\n",
        "В данной части задания вам предстоит построить систему машинного перевода (пока что очень простую). А именно – научиться транслитерации, т.е. решать следующую задачу:\n",
        "\n",
        "```\n",
        "аббревиатура –> abbreviatura\n",
        "август –> avgust\n",
        "```\n",
        "\n",
        "В данном задании мы воспользуемся достаточно простым решением на основе архитектуры encoder-decoder.\n",
        "\n",
        "В качестве данных будем использовать Словарь А. А. Зализняка (оригинальный набор данных доступен по [ссылке](http://speakrus.ru/dict/index.htm)). Предобработанный набор данных доступен ниже. Он представляет собой пару из того же словаря (в кодировке Unicode) и его транслитерации."
      ]
    },
    {
      "cell_type": "code",
      "metadata": {
        "id": "0PDEkZqOPkn-",
        "colab": {
          "base_uri": "https://localhost:8080/"
        },
        "outputId": "c00e0d4f-b29b-4811-f1aa-fd0fb536a2cc"
      },
      "source": [
        "!wget -nc https://raw.githubusercontent.com/neychev/small_DL_repo/master/miscellaneous/zdf_unicode_original.txt\n",
        "!wget -nc https://raw.githubusercontent.com/neychev/small_DL_repo/master/miscellaneous/zdf_unicode_translit.txt"
      ],
      "execution_count": 2,
      "outputs": [
        {
          "output_type": "stream",
          "text": [
            "--2021-01-29 23:43:01--  https://raw.githubusercontent.com/neychev/small_DL_repo/master/miscellaneous/zdf_unicode_original.txt\n",
            "Resolving raw.githubusercontent.com (raw.githubusercontent.com)... 151.101.0.133, 151.101.64.133, 151.101.128.133, ...\n",
            "Connecting to raw.githubusercontent.com (raw.githubusercontent.com)|151.101.0.133|:443... connected.\n",
            "HTTP request sent, awaiting response... 200 OK\n",
            "Length: 1982338 (1.9M) [text/plain]\n",
            "Saving to: ‘zdf_unicode_original.txt’\n",
            "\n",
            "zdf_unicode_origina 100%[===================>]   1.89M  --.-KB/s    in 0.04s   \n",
            "\n",
            "2021-01-29 23:43:01 (49.8 MB/s) - ‘zdf_unicode_original.txt’ saved [1982338/1982338]\n",
            "\n",
            "--2021-01-29 23:43:01--  https://raw.githubusercontent.com/neychev/small_DL_repo/master/miscellaneous/zdf_unicode_translit.txt\n",
            "Resolving raw.githubusercontent.com (raw.githubusercontent.com)... 151.101.0.133, 151.101.64.133, 151.101.128.133, ...\n",
            "Connecting to raw.githubusercontent.com (raw.githubusercontent.com)|151.101.0.133|:443... connected.\n",
            "HTTP request sent, awaiting response... 200 OK\n",
            "Length: 1005638 (982K) [text/plain]\n",
            "Saving to: ‘zdf_unicode_translit.txt’\n",
            "\n",
            "zdf_unicode_transli 100%[===================>] 982.07K  --.-KB/s    in 0.01s   \n",
            "\n",
            "2021-01-29 23:43:01 (75.0 MB/s) - ‘zdf_unicode_translit.txt’ saved [1005638/1005638]\n",
            "\n"
          ],
          "name": "stdout"
        }
      ]
    },
    {
      "cell_type": "markdown",
      "metadata": {
        "id": "3Ff8P5-7Pkn_"
      },
      "source": [
        "Мы будем работать с текстом на уровне символов, т.е. каждый токен (за исключением технических) является символом. Каждое слово – отдельная последовательность. Также стоит учесть, что все слова сразу предоставлены в нижнем регистре.\n",
        "\n",
        "Для работы с данным текстом нам понадобятся наборы используемых токенов. Они уже сгенерированы и доступны ниже."
      ]
    },
    {
      "cell_type": "code",
      "metadata": {
        "id": "DPV0mQcePkn_"
      },
      "source": [
        "cyrillic_symbols = [\n",
        "    '-', 'а', 'б', 'в', 'г', 'д', 'е', 'ж', 'з', 'и', 'й', 'к',\n",
        "    'л', 'м', 'н', 'о', 'п', 'р', 'с', 'т', 'у', 'ф', 'х', 'ц',\n",
        "    'ч', 'ш', 'щ', 'ъ', 'ы', 'ь', 'э', 'ю', 'я', 'ё'\n",
        "] + ['<BOS>'] + ['<EOS>'] + ['<PAD>']\n",
        "\n",
        "latin_symbols = [\n",
        "    '-', 'a', 'b', 'c', 'd', 'e', 'f', 'g', 'h', 'i', 'k', 'l',\n",
        "    'm', 'n', 'o', 'p', 'r', 's', 't', 'u', 'v', 'y', 'z'\n",
        "] + ['<BOS>'] + ['<EOS>'] + ['<PAD>']\n",
        "\n",
        "cyrillic_mapper = {symbol: idx for idx, symbol in enumerate(cyrillic_symbols)}\n",
        "latin_mapper = {symbol: idx for idx, symbol in enumerate(latin_symbols)}\n",
        "\n",
        "def symbols_to_indices(symbols_string, mapper):\n",
        "    symbols_string = symbols_string.replace('\\n', '')\n",
        "    return [mapper['<BOS>']] + [mapper[symbol] for symbol in symbols_string] + [mapper['<EOS>']]"
      ],
      "execution_count": 3,
      "outputs": []
    },
    {
      "cell_type": "markdown",
      "metadata": {
        "id": "F3hBMvORPkoA"
      },
      "source": [
        "Пример преобразования слова в последовательность индексов:"
      ]
    },
    {
      "cell_type": "code",
      "metadata": {
        "id": "ni5DeMwYPkoA",
        "colab": {
          "base_uri": "https://localhost:8080/"
        },
        "outputId": "624a642a-004e-4a9e-8234-b067aae86c2b"
      },
      "source": [
        "symbols_to_indices('задание\\n', cyrillic_mapper)"
      ],
      "execution_count": 4,
      "outputs": [
        {
          "output_type": "execute_result",
          "data": {
            "text/plain": [
              "[34, 8, 1, 5, 1, 14, 9, 6, 35]"
            ]
          },
          "metadata": {
            "tags": []
          },
          "execution_count": 4
        }
      ]
    },
    {
      "cell_type": "markdown",
      "metadata": {
        "id": "tRvGls53PkoA"
      },
      "source": [
        "Ниже доступна преобразованная версия датасета для данной задачи. Каждому индексу соответствует слово и его транслитерация."
      ]
    },
    {
      "cell_type": "code",
      "metadata": {
        "id": "s6VOP9-bPkoB"
      },
      "source": [
        "class TranslitDataset(torch.utils.data.Dataset):\n",
        "    def __init__(self, path):\n",
        "        with open(os.path.join(path, 'zdf_unicode_original.txt'), 'r') as iofile:\n",
        "            words_original_raw = iofile.readlines()\n",
        "            \n",
        "        with open(os.path.join(path, 'zdf_unicode_translit.txt'), 'r') as iofile:\n",
        "            words_translit_raw = iofile.readlines()\n",
        "        \n",
        "        assert len(words_original_raw) == len(words_translit_raw), \\\n",
        "        'Different number of original and translit words'\n",
        "        \n",
        "        self.words_original = [\n",
        "            torch.LongTensor(symbols_to_indices(symbols_string, cyrillic_mapper))\n",
        "            for symbols_string in words_original_raw\n",
        "        ]\n",
        "        \n",
        "        self.words_translit = [\n",
        "            torch.LongTensor(symbols_to_indices(symbols_string, latin_mapper))\n",
        "            for symbols_string in words_translit_raw\n",
        "        ]\n",
        "\n",
        "    def __len__(self):\n",
        "        return len(self.words_original)\n",
        "    \n",
        "    def __getitem__(self, idx):\n",
        "        return self.words_original[idx], self.words_translit[idx]\n",
        "\n",
        "dataset = TranslitDataset('./')"
      ],
      "execution_count": 5,
      "outputs": []
    },
    {
      "cell_type": "markdown",
      "metadata": {
        "id": "RnsgbIT_PkoB"
      },
      "source": [
        "#### Базовое решение (25% за задания до начала следующего блока)\n",
        "Постройте визуализацию распределения длин текстов в исходном и целевом языках:"
      ]
    },
    {
      "cell_type": "code",
      "metadata": {
        "id": "al14RqIZPkoB"
      },
      "source": [
        "# your code here"
      ],
      "execution_count": null,
      "outputs": []
    },
    {
      "cell_type": "code",
      "metadata": {
        "id": "Gl3QKuZooKPu"
      },
      "source": [
        "orig_len = []\r\n",
        "trans_len = []\r\n",
        "for i in range(dataset.__len__()):\r\n",
        "    orig_len.append(len(dataset.__getitem__(i)[0]))\r\n",
        "    trans_len.append(len(dataset.__getitem__(i)[1]))\r\n"
      ],
      "execution_count": null,
      "outputs": []
    },
    {
      "cell_type": "code",
      "metadata": {
        "colab": {
          "base_uri": "https://localhost:8080/",
          "height": 282
        },
        "id": "UCcA5W4PpBXm",
        "outputId": "8090ab96-cbd3-4661-ee93-0deff23e9a59"
      },
      "source": [
        "import seaborn as sns\r\n",
        "sns.kdeplot(data=orig_len, bw_adjust=5, cut=0)"
      ],
      "execution_count": null,
      "outputs": [
        {
          "output_type": "execute_result",
          "data": {
            "text/plain": [
              "<matplotlib.axes._subplots.AxesSubplot at 0x7f4245822898>"
            ]
          },
          "metadata": {
            "tags": []
          },
          "execution_count": 7
        },
        {
          "output_type": "display_data",
          "data": {
            "image/png": "[encoded data removed]",
            "text/plain": [
              "<Figure size 432x288 with 1 Axes>"
            ]
          },
          "metadata": {
            "tags": [],
            "needs_background": "light"
          }
        }
      ]
    },
    {
      "cell_type": "code",
      "metadata": {
        "colab": {
          "base_uri": "https://localhost:8080/",
          "height": 282
        },
        "id": "LYFoKlIrpM1m",
        "outputId": "1025acb9-53bf-4b0d-b272-8465dde20b7f"
      },
      "source": [
        "sns.kdeplot(data=trans_len,bw_adjust=5, cut=0)"
      ],
      "execution_count": null,
      "outputs": [
        {
          "output_type": "execute_result",
          "data": {
            "text/plain": [
              "<matplotlib.axes._subplots.AxesSubplot at 0x7f42553ec5c0>"
            ]
          },
          "metadata": {
            "tags": []
          },
          "execution_count": 8
        },
        {
          "output_type": "display_data",
          "data": {
            "image/png": "[encoded data removed]",
            "text/plain": [
              "<Figure size 432x288 with 1 Axes>"
            ]
          },
          "metadata": {
            "tags": [],
            "needs_background": "light"
          }
        }
      ]
    },
    {
      "cell_type": "markdown",
      "metadata": {
        "id": "frkwzZEPPkoB"
      },
      "source": [
        "Следующий блок кода почти полностью повторяет рассмотренный на семинаре. Основное отличие – теперь `collate_tokens` работает сразу с исходным и с целевым языком (т.е. с двумя частями батча)."
      ]
    },
    {
      "cell_type": "code",
      "metadata": {
        "id": "nmi_E4b4PkoC",
        "colab": {
          "base_uri": "https://localhost:8080/"
        },
        "outputId": "c1519db3-d1ae-493f-f882-30b814b593f5"
      },
      "source": [
        "def copy_tensor(src:torch.Tensor, dst:torch.Tensor):\n",
        "    assert dst.numel() == src.numel()\n",
        "    dst.copy_(src)\n",
        "\n",
        "    \n",
        "pad_indices = [\n",
        "    cyrillic_symbols.index('<PAD>'),\n",
        "    latin_symbols.index('<PAD>')\n",
        "]\n",
        "def collate_tokens(values):\n",
        "    results = [None, None]\n",
        "    for idx in [0, 1]:\n",
        "        max_len = max(v[idx].size(0) for v in values)\n",
        "        res = torch.full((len(values), max_len),\n",
        "                         pad_indices[idx],\n",
        "                         dtype=torch.long,\n",
        "                         device=values[0][idx].device)\n",
        "\n",
        "        for i, v in enumerate(values):\n",
        "            copy_tensor(v[idx], res[i][: len(v[idx])])\n",
        "        results[idx] = res\n",
        "    return results\n",
        "\n",
        "dataloader = torch.utils.data.DataLoader(dataset, batch_size=128, shuffle=True, collate_fn=collate_tokens)\n",
        "\n",
        "batch = next(iter(dataloader))\n",
        "print(batch[0].size(), batch[1].size())\n",
        "print(batch)"
      ],
      "execution_count": 6,
      "outputs": [
        {
          "output_type": "stream",
          "text": [
            "torch.Size([128, 21]) torch.Size([128, 21])\n",
            "[tensor([[34, 18,  3,  ..., 28, 10, 35],\n",
            "        [34, 15,  8,  ..., 36, 36, 36],\n",
            "        [34, 14,  1,  ..., 36, 36, 36],\n",
            "        ...,\n",
            "        [34, 11, 32,  ..., 36, 36, 36],\n",
            "        [34, 16, 15,  ..., 36, 36, 36],\n",
            "        [34, 10, 15,  ..., 36, 36, 36]]), tensor([[23, 17, 20,  ..., 21, 21, 24],\n",
            "        [23, 14, 22,  ..., 25, 25, 25],\n",
            "        [23, 13,  1,  ..., 25, 25, 25],\n",
            "        ...,\n",
            "        [23, 10, 21,  ..., 25, 25, 25],\n",
            "        [23, 15, 14,  ..., 25, 25, 25],\n",
            "        [23, 21, 14,  ..., 25, 25, 25]])]\n"
          ],
          "name": "stdout"
        }
      ]
    },
    {
      "cell_type": "markdown",
      "metadata": {
        "id": "K3uI9uTYPkoC"
      },
      "source": [
        "Реализуйте `Encoder` в формате рекуррентной сети. Она может быть очень похожа на рассмотренную на семинаре. Возвращать она должна лишь свое скрытое состояние."
      ]
    },
    {
      "cell_type": "code",
      "metadata": {
        "id": "GTo4hebPPkoC"
      },
      "source": [
        "class EncoderModule(nn.Module):\n",
        "    def __init__(self, vocab_size, embedding_size, lstm_size):\n",
        "        super().__init__()\n",
        "        self.embedding =  nn.Embedding(vocab_size, embedding_size)\n",
        "        self.lstm = nn.LSTM(embedding_size,\n",
        "                            lstm_size,\n",
        "                            batch_first=True)\n",
        "        \n",
        "    def forward(self, x):\n",
        "        embed = self.embedding(x)\n",
        "        output, state = self.lstm(embed)\n",
        "        return state"
      ],
      "execution_count": 7,
      "outputs": []
    },
    {
      "cell_type": "markdown",
      "metadata": {
        "id": "doGACVoNPkoC"
      },
      "source": [
        "Реализуйте `Decoder` в формате рекуррентной сети. Она может быть очень похожа на рассмотренную на семинаре.\n",
        "\n",
        "В отличие от энкодера, ей на вход приходит и последовательность, и скрытое состояние энкодера. По умолчанию энкодер и декодер можно сделать с одинаковыми размерностями скрытых состояний.\n",
        "\n",
        "Возвращать декодер должен логиты для предсказанных токенов (т.е. он очень похож на языковую модель с семинара)."
      ]
    },
    {
      "cell_type": "code",
      "metadata": {
        "id": "RUlJRqWPPkoD"
      },
      "source": [
        "class DecoderModule(nn.Module):\n",
        "    def __init__(self, vocab_size, embedding_size, lstm_size):\n",
        "        super().__init__()\n",
        "        self.embedding = nn.Embedding(vocab_size, embedding_size)\n",
        "        self.lstm = nn.LSTM(embedding_size,\n",
        "                            lstm_size,\n",
        "                            batch_first=True)\n",
        "        self.lm_head = nn.Linear(lstm_size, vocab_size)\n",
        "        \n",
        "    def forward(self, x, state):\n",
        "        embed = self.embedding(x)\n",
        "        output, _ = self.lstm(embed, state)\n",
        "        logits = self.lm_head(output)\n",
        "        return logits"
      ],
      "execution_count": 8,
      "outputs": []
    },
    {
      "cell_type": "markdown",
      "metadata": {
        "id": "fN5sSdwYPkoD"
      },
      "source": [
        "Инициализация также знакома вам по практическому занятию"
      ]
    },
    {
      "cell_type": "code",
      "metadata": {
        "id": "zOfm863uPkoD"
      },
      "source": [
        "torch.manual_seed(0)\n",
        "torch.cuda.manual_seed_all(0)\n",
        "\n",
        "device = torch.device('cuda' if torch.cuda.is_available() else 'cpu')\n",
        "encoder = EncoderModule(len(cyrillic_symbols), 32, 128).to(device)\n",
        "decoder = DecoderModule(len(latin_symbols), 32, 128).to(device)"
      ],
      "execution_count": 9,
      "outputs": []
    },
    {
      "cell_type": "markdown",
      "metadata": {
        "id": "ew9sUf0BPkoD"
      },
      "source": [
        "Выберите подходящую функцию потерь. Не забывайте про различие между `nn.CrossEntropyLoss` и `nn.NLLLoss`, а также про PAD-токен (он должен обрабатываться особым образом)."
      ]
    },
    {
      "cell_type": "code",
      "metadata": {
        "id": "Zx46eM9tPkoE"
      },
      "source": [
        "criterion = nn.CrossEntropyLoss(ignore_index=latin_symbols.index('<PAD>'))"
      ],
      "execution_count": 10,
      "outputs": []
    },
    {
      "cell_type": "markdown",
      "metadata": {
        "id": "T-F41vfQPkoE"
      },
      "source": [
        "Если у вас есть несколько моделей, передать их параметры оптимизатору можно следующим образом:"
      ]
    },
    {
      "cell_type": "code",
      "metadata": {
        "id": "-XIROP0nPkoE"
      },
      "source": [
        "optimizer = torch.optim.Adam((par for model in [encoder, decoder] for par in model.parameters()))"
      ],
      "execution_count": 11,
      "outputs": []
    },
    {
      "cell_type": "markdown",
      "metadata": {
        "id": "jL5rjSeLPkoE"
      },
      "source": [
        "Запустите обучение модели. Базовый код дублирует код с семинара и уже работает.\n",
        "\n",
        "**_Комментарий_**: _Обращаем ваше внимание, решаемая задача является упрощенной относительно классических задач машинного перевода. В данном случае декодер всегда получает на вход корректный токен, т.е. модель не работает в авторегрессионном режиме при обучении. Такой случай можно рассматривать как обучение со 100% teacher enforcing. Более сложные техники будут рассмотрены в следующих занятиях._"
      ]
    },
    {
      "cell_type": "code",
      "metadata": {
        "id": "ZSvdzUKJPkoE",
        "colab": {
          "base_uri": "https://localhost:8080/",
          "height": 1000
        },
        "outputId": "1c2ed1dc-0096-45a2-86fa-e9ee32b57c52"
      },
      "source": [
        "all_losses = []\n",
        "NUM_EPOCHS = 5 #5\n",
        "\n",
        "for epoch in range(NUM_EPOCHS):\n",
        "    for idx, batch in enumerate(dataloader):\n",
        "        batch = [batch_part.to(device) for batch_part in batch]\n",
        "        state = encoder(batch[0]) # generate encoder hidden state\n",
        "        lm_logits = decoder(batch[1], state) # pass encoder hidden state to decoder and generate target sequence\n",
        "\n",
        "        shift_logits = lm_logits[..., :-1, :].contiguous()\n",
        "        shift_labels = batch[1][..., 1:].contiguous()\n",
        "        \n",
        "\n",
        "        loss = criterion(shift_logits.permute(0,2,1), shift_labels)\n",
        "        loss.backward()\n",
        "        optimizer.step()\n",
        "        optimizer.zero_grad()\n",
        "\n",
        "        all_losses.append(loss.item())\n",
        "\n",
        "\n",
        "    clear_output()\n",
        "    plt.figure()\n",
        "    plt.plot(all_losses)"
      ],
      "execution_count": 12,
      "outputs": [
        {
          "output_type": "display_data",
          "data": {
            "image/png": "[encoded data removed]",
            "text/plain": [
              "<Figure size 432x288 with 1 Axes>"
            ]
          },
          "metadata": {
            "tags": [],
            "needs_background": "light"
          }
        },
        {
          "output_type": "display_data",
          "data": {
            "image/png": "[encoded data removed]",
            "text/plain": [
              "<Figure size 432x288 with 1 Axes>"
            ]
          },
          "metadata": {
            "tags": [],
            "needs_background": "light"
          }
        },
        {
          "output_type": "display_data",
          "data": {
            "image/png": "[encoded data removed]",
            "text/plain": [
              "<Figure size 432x288 with 1 Axes>"
            ]
          },
          "metadata": {
            "tags": [],
            "needs_background": "light"
          }
        },
        {
          "output_type": "display_data",
          "data": {
            "image/png": "[encoded data removed]",
            "text/plain": [
              "<Figure size 432x288 with 1 Axes>"
            ]
          },
          "metadata": {
            "tags": [],
            "needs_background": "light"
          }
        },
        {
          "output_type": "display_data",
          "data": {
            "image/png": "[encoded data removed]",
            "text/plain": [
              "<Figure size 432x288 with 1 Axes>"
            ]
          },
          "metadata": {
            "tags": [],
            "needs_background": "light"
          }
        }
      ]
    },
    {
      "cell_type": "markdown",
      "metadata": {
        "id": "j2GmS69mPkoF"
      },
      "source": [
        "Обращаем ваше внимание, одной эпохи может быть недостаточно для выхода функции потерь на плато."
      ]
    },
    {
      "cell_type": "markdown",
      "metadata": {
        "id": "pPsZqAnAPkoF"
      },
      "source": [
        "Если модель была обучена, проведем визуальный анализ результатов. Следующие две функции дублируют код с семинара."
      ]
    },
    {
      "cell_type": "code",
      "metadata": {
        "id": "yVrC07fxPkoF"
      },
      "source": [
        "def top_k_top_p_filtering(logits, top_k = 0, top_p = 1.0, filter_value = -float(\"Inf\"), min_tokens_to_keep = 1):\n",
        "    \"\"\" Filter a distribution of logits using top-k and/or nucleus (top-p) filtering\n",
        "        Args:\n",
        "            logits: logits distribution shape (batch size, vocabulary size)\n",
        "            if top_k > 0: keep only top k tokens with highest probability (top-k filtering).\n",
        "            if top_p < 1.0: keep the top tokens with cumulative probability >= top_p (nucleus filtering).\n",
        "                Nucleus filtering is described in Holtzman et al. (http://arxiv.org/abs/1904.09751)\n",
        "            Make sure we keep at least min_tokens_to_keep per batch example in the output\n",
        "        From: https://gist.github.com/thomwolf/1a5a29f6962089e871b94cbd09daf317\n",
        "    \"\"\"\n",
        "    if top_k > 0:\n",
        "        top_k = min(max(top_k, min_tokens_to_keep), logits.size(-1))  # Safety check\n",
        "        # Remove all tokens with a probability less than the last token of the top-k\n",
        "        indices_to_remove = logits < torch.topk(logits, top_k)[0][..., -1, None]\n",
        "        logits[indices_to_remove] = filter_value\n",
        "\n",
        "    if top_p < 1.0:\n",
        "        sorted_logits, sorted_indices = torch.sort(logits, descending=True)\n",
        "        cumulative_probs = torch.cumsum(F.softmax(sorted_logits, dim=-1), dim=-1)\n",
        "\n",
        "        # Remove tokens with cumulative probability above the threshold (token with 0 are kept)\n",
        "        sorted_indices_to_remove = cumulative_probs > top_p\n",
        "        if min_tokens_to_keep > 1:\n",
        "            # Keep at least min_tokens_to_keep (set to min_tokens_to_keep-1 because we add the first one below)\n",
        "            sorted_indices_to_remove[..., :min_tokens_to_keep] = 0\n",
        "        # Shift the indices to the right to keep also the first token above the threshold\n",
        "        sorted_indices_to_remove[..., 1:] = sorted_indices_to_remove[..., :-1].clone()\n",
        "        sorted_indices_to_remove[..., 0] = 0\n",
        "\n",
        "        # scatter sorted tensors to original indexing\n",
        "        indices_to_remove = sorted_indices_to_remove.scatter(1, sorted_indices, sorted_indices_to_remove)\n",
        "        logits[indices_to_remove] = filter_value\n",
        "    return logits\n",
        "\n",
        "def tokens_to_string(token_list):\n",
        "    try:\n",
        "        first_eos_index = token_list.index(latin_mapper['<EOS>'])\n",
        "    except ValueError:\n",
        "        first_eos_index = -1\n",
        "    letters = [latin_symbols[token] for token in token_list[:first_eos_index]]\n",
        "    return ''.join(\n",
        "        letter for letter in letters if letter not in ('<BOS>', '<EOS>', '<PAD>')\n",
        "    )"
      ],
      "execution_count": 13,
      "outputs": []
    },
    {
      "cell_type": "markdown",
      "metadata": {
        "id": "icpc9EXUPkoF"
      },
      "source": [
        "Для генерации транслитерации по заданному тексту доступна функция ниже.\n",
        "\n",
        "_Обращаем ваше внимание, в словаре отсутствует пробел и символы верхнего регистра, а значит наша модель не может работать с целыми предложениями. Сначала нужно будет разделить их по словам и привести к нижнему регистру._"
      ]
    },
    {
      "cell_type": "code",
      "metadata": {
        "id": "sYhHvRBaPkoG"
      },
      "source": [
        "def get_transliteration(original_word, generation_iterations=32):\n",
        "    word_as_tensor = torch.LongTensor(symbols_to_indices(original_word, cyrillic_mapper))\n",
        "    state = encoder(word_as_tensor[None, ...].to(device))\n",
        "    prefix = torch.full((1, 1),\n",
        "                    latin_symbols.index('<BOS>'),\n",
        "                    device=device, dtype=torch.long)\n",
        "    \n",
        "    for _ in range(generation_iterations):\n",
        "        logits = decoder(prefix, state)[:, -1, :]\n",
        "        filtered_logits = top_k_top_p_filtering(logits, top_k=10)\n",
        "        probs = torch.nn.functional.softmax(filtered_logits, dim=-1)\n",
        "        tokens = torch.multinomial(probs, num_samples=1)\n",
        "        prefix = torch.cat((prefix, tokens), dim=1)\n",
        "\n",
        "    return(tokens_to_string(prefix[0].tolist()))"
      ],
      "execution_count": 14,
      "outputs": []
    },
    {
      "cell_type": "code",
      "metadata": {
        "id": "aR8cy3TcPkoG"
      },
      "source": [
        "examples_raw = [\n",
        "    'шоссе',\n",
        "    'резистентность',\n",
        "    'эмбеддинг',\n",
        "    'учитель',\n",
        "    'коммивояжер',\n",
        "    'кудесник',\n",
        "    'парабола',\n",
        "    'консистенция',\n",
        "    'констебль',\n",
        "    'факториал',\n",
        "    'преамбула',\n",
        "]"
      ],
      "execution_count": null,
      "outputs": []
    },
    {
      "cell_type": "code",
      "metadata": {
        "id": "o0lINowKPkoG",
        "colab": {
          "base_uri": "https://localhost:8080/"
        },
        "outputId": "6c74e1b8-5ecc-4bb8-886f-5d14328c6558"
      },
      "source": [
        "for example in examples_raw:\n",
        "    print('{} –> {}'.format(example, get_transliteration(example)))"
      ],
      "execution_count": null,
      "outputs": [
        {
          "output_type": "stream",
          "text": [
            "шоссе –> stozfay\n",
            "резистентность –> rezistetnostna\n",
            "эмбеддинг –> mebednitya\n",
            "учитель –> uchtiel\n",
            "коммивояжер –> kommivozhayut\n",
            "кудесник –> kudesnik\n",
            "парабола –> parabola\n",
            "консистенция –> konsistecin\n",
            "констебль –> konstelt\n",
            "факториал –> fatkorial\n",
            "преамбула –> praemubla\n"
          ],
          "name": "stdout"
        }
      ]
    },
    {
      "cell_type": "markdown",
      "metadata": {
        "id": "_-XYYsmgPkoG"
      },
      "source": [
        "Протестируйте модель на нескольких (~10) нестандартных словах. Что вы можете сказать о качестве транслитерации?"
      ]
    },
    {
      "cell_type": "markdown",
      "metadata": {
        "id": "Z1LH9ooPPkoG"
      },
      "source": [
        "Путается порядок букв, но чаще всего угадывается само их наличие. Чем больше слово, тем хуже перевод, скорее всего из-за боттл нека при пеходе с енкодера на декодер. "
      ]
    },
    {
      "cell_type": "markdown",
      "metadata": {
        "id": "N8hohqs_3KVd"
      },
      "source": [
        "#### Оценка качества транслитерации в зависимости от позиции слова в тексте (10%)\n",
        "Используя уже обученную модель, оцените точность транслитерации на обучающей выборке. \n",
        "\n",
        "Постройте график точности классификации от позиции символа."
      ]
    },
    {
      "cell_type": "code",
      "metadata": {
        "id": "GJ9bZcelPkoH"
      },
      "source": [
        "from collections import Counter\r\n",
        "dict_pos_n = Counter()\r\n",
        "dict_pos_c = Counter()\r\n",
        "for idx, batch in enumerate(dataloader):\r\n",
        "        batch = [batch_part.to(device) for batch_part in batch]\r\n",
        "        state = encoder(batch[0]) # generate encoder hidden state\r\n",
        "        lm_logits = decoder(batch[1], state) # pass encoder hidden state to decoder and generate target sequence\r\n",
        "\r\n",
        "        shift_logits = lm_logits[..., :-1, :].contiguous()\r\n",
        "        shift_labels = batch[1][..., 1:].contiguous()\r\n",
        "\r\n",
        "\r\n",
        "        for n1,i in enumerate(shift_logits):\r\n",
        "          for n2,j in enumerate(i):\r\n",
        "            if shift_labels[n1,n2]!= 25:\r\n",
        "              dict_pos_n[n2] += 1\r\n",
        "              if np.argmax(j.cpu().detach().numpy()) == shift_labels[n1,n2]:\r\n",
        "                dict_pos_c[n2] += 1\r\n"
      ],
      "execution_count": 15,
      "outputs": []
    },
    {
      "cell_type": "code",
      "metadata": {
        "colab": {
          "base_uri": "https://localhost:8080/",
          "height": 282
        },
        "id": "64JkrV002wPD",
        "outputId": "71f08b60-dc2e-458b-cc32-020b0b906f6a"
      },
      "source": [
        "res_val = []\r\n",
        "for i in range(len(dict_pos_n)):\r\n",
        "  res_val.append(dict_pos_c[i]/dict_pos_n[i])\r\n",
        "plt.plot(res_val)"
      ],
      "execution_count": 16,
      "outputs": [
        {
          "output_type": "execute_result",
          "data": {
            "text/plain": [
              "[<matplotlib.lines.Line2D at 0x7f8401af9710>]"
            ]
          },
          "metadata": {
            "tags": []
          },
          "execution_count": 16
        },
        {
          "output_type": "display_data",
          "data": {
            "image/png": "[encoded data removed]",
            "text/plain": [
              "<Figure size 432x288 with 1 Axes>"
            ]
          },
          "metadata": {
            "tags": [],
            "needs_background": "light"
          }
        }
      ]
    },
    {
      "cell_type": "markdown",
      "metadata": {
        "id": "lZotC8w7PkoH"
      },
      "source": [
        "#### Разделение выборки на обучение и тест (10%)\n",
        "До текущего момента вся выборка использовалась для обучения модели. Вернитесь к началу части 2 и разделите выборку на обучающую, валидационную и тестовую выборки.\n",
        "\n",
        "Обращаем ваше внимание, лучше разделить выборку случайным образом, т.к. оригинальный набор данных отсортирован в лексикографическом порядке."
      ]
    },
    {
      "cell_type": "code",
      "metadata": {
        "id": "0BLTJiNU5qIU"
      },
      "source": [
        "dataset_train, dataset_valtest = torch.utils.data.random_split(dataset,[int(dataset.__len__()*0.8), dataset.__len__() - int(dataset.__len__()*0.8)] , generator=torch.Generator().manual_seed(42))"
      ],
      "execution_count": null,
      "outputs": []
    },
    {
      "cell_type": "code",
      "metadata": {
        "id": "w_zcNMgc67Jh"
      },
      "source": [
        "dataset_val, dataset_test = torch.utils.data.random_split(dataset_valtest,[int(dataset_valtest.__len__()*0.5), dataset_valtest.__len__() - int(dataset_valtest.__len__()*0.5)] , generator=torch.Generator().manual_seed(42))"
      ],
      "execution_count": null,
      "outputs": []
    },
    {
      "cell_type": "code",
      "metadata": {
        "id": "eJM7C_lD8S1a"
      },
      "source": [
        "dataloader_train = torch.utils.data.DataLoader(dataset_train, batch_size=128, shuffle=True, collate_fn=collate_tokens)\r\n",
        "dataloader_val = torch.utils.data.DataLoader(dataset_val, batch_size=128, shuffle=True, collate_fn=collate_tokens)\r\n",
        "dataloader_test = torch.utils.data.DataLoader(dataset_test, batch_size=128, shuffle=True, collate_fn=collate_tokens)"
      ],
      "execution_count": null,
      "outputs": []
    },
    {
      "cell_type": "markdown",
      "metadata": {
        "id": "5Qrk-6wUPkoI"
      },
      "source": [
        "#### Построение end-to-end модели (20%)\n",
        "Теперь объедините энкодер и декодер в один класс. Постарайтесь сделать его максимально простым. Используйте энкодер и декодер с различными размерностями скрытого состояния (т.е. вам нужно будет преобразовать состояние декодера, например, используя линейный слой).\n",
        "\n",
        "Обучите модель заново только на обучающей выборке и замерьте время обучения (приведите усреденное значение на одну эпоху в конце данного блока). Также рекомендуем поэксперименировать с количеством эпох, learning rate и learning rate decay (например [ReduceLROnPlateau](https://pytorch.org/docs/stable/optim.html#torch.optim.lr_scheduler.ReduceLROnPlateau))\n",
        "\n",
        "Оцените качество модели на тестовой выборке (в том числе точность транслитерации в зависимости от позиции в слове). Оцените скорость применения модели (усредненное значение для одного батча).\n",
        "\n",
        "_**Комментарий**: возможно, инвертирование текста на исходном языке (т.е. чтение его с конца, а не с начала) поможет вам добиться лучших результатов. Как вы думаете, почему?_"
      ]
    },
    {
      "cell_type": "code",
      "metadata": {
        "id": "2Al-z694PkoI"
      },
      "source": [
        "class Seq2SeqTranslator(nn.Module):\n",
        "    def __init__(self, vocab_size, embedding_size, gru_size_enc, gru_size_dec):\n",
        "        super().__init__()\n",
        "        self.embedding_enc = nn.Embedding(vocab_size, embedding_size)\n",
        "        self.embedding_dec = nn.Embedding(vocab_size, embedding_size)\n",
        "        self.gru_enc = nn.GRU(embedding_size,\n",
        "                            gru_size_enc,\n",
        "                            batch_first=True)\n",
        "        self.gru_dec = nn.GRU(embedding_size,\n",
        "                            gru_size_dec,\n",
        "                            batch_first=True)\n",
        "        self.lm_in = nn.Linear(gru_size_enc, gru_size_dec)\n",
        "        self.lm_head = nn.Linear(gru_size_dec, vocab_size)\n",
        "\n",
        "    def forward(self, x_rus, x_eng):\n",
        "        embed_rus = self.embedding_enc(x_rus)\n",
        "        output, state = self.gru_enc(embed_rus)\n",
        "        state_new = self.lm_in(state)\n",
        "        embed_eng = self.embedding_dec(x_eng)\n",
        "        output, state_last = self.gru_dec(embed_eng, state_new)\n",
        "        logits = self.lm_head(output)\n",
        "        return logits"
      ],
      "execution_count": null,
      "outputs": []
    },
    {
      "cell_type": "code",
      "metadata": {
        "id": "5F6CpqPRPkoI"
      },
      "source": [
        "loss_train = []\r\n",
        "loss_val = []\r\n",
        "NUM_EPOCHS = 4 #5\r\n",
        "seq2seq = Seq2SeqTranslator(len(cyrillic_symbols), 32, 64, 128).to(device)\r\n",
        "optimizer = torch.optim.Adam(seq2seq.parameters())\r\n",
        "\r\n",
        "for epoch in range(NUM_EPOCHS):\r\n",
        "    for idx, batch in enumerate(dataloader_train):\r\n",
        "        batch_train = [batch_part.to(device) for batch_part in batch]\r\n",
        "        lm_logits = seq2seq(batch_train[0], batch_train[1]) # pass encoder hidden state to decoder and generate target sequence\r\n",
        "\r\n",
        "\r\n",
        "\r\n",
        "        shift_logits = lm_logits[..., :-1, :].contiguous()\r\n",
        "        shift_labels = batch_train[1][..., 1:].contiguous()\r\n",
        "        \r\n",
        "\r\n",
        "        loss = criterion(shift_logits.permute(0,2,1), shift_labels.to(device))\r\n",
        "        loss.backward()\r\n",
        "        optimizer.step()\r\n",
        "        optimizer.zero_grad()\r\n",
        "\r\n",
        "        loss_train.append(loss.item())\r\n",
        "\r\n",
        "    for idx, batch in enumerate(dataloader_val):\r\n",
        "        batch_val = [batch_part.to(device) for batch_part in batch]\r\n",
        "        lm_logits = seq2seq(batch_val[0], batch_val[1]) # pass encoder hidden state to decoder and generate target sequence\r\n",
        "\r\n",
        "        shift_logits = lm_logits[..., :-1, :].contiguous()\r\n",
        "        shift_labels = batch_val[1][..., 1:].contiguous()\r\n",
        "\r\n",
        "        loss = criterion(shift_logits.permute(0,2,1), shift_labels.to(device))\r\n",
        "\r\n",
        "        loss_val.append(loss.item())\r\n",
        "\r\n",
        "\r\n",
        "    #clear_output()\r\n",
        "    #plt.figure()\r\n",
        "    #plt.plot(loss_train)\r\n",
        "    #plt.plot(loss_val)\r\n"
      ],
      "execution_count": null,
      "outputs": []
    },
    {
      "cell_type": "code",
      "metadata": {
        "colab": {
          "base_uri": "https://localhost:8080/",
          "height": 282
        },
        "id": "P6_R8ftVIKO-",
        "outputId": "065f2026-4591-45c4-f0d3-ddbe0def6341"
      },
      "source": [
        "plt.plot(loss_train)"
      ],
      "execution_count": null,
      "outputs": [
        {
          "output_type": "execute_result",
          "data": {
            "text/plain": [
              "[<matplotlib.lines.Line2D at 0x7f1ae1e784e0>]"
            ]
          },
          "metadata": {
            "tags": []
          },
          "execution_count": 21
        },
        {
          "output_type": "display_data",
          "data": {
            "image/png": "[encoded data removed]",
            "text/plain": [
              "<Figure size 432x288 with 1 Axes>"
            ]
          },
          "metadata": {
            "tags": [],
            "needs_background": "light"
          }
        }
      ]
    },
    {
      "cell_type": "code",
      "metadata": {
        "colab": {
          "base_uri": "https://localhost:8080/",
          "height": 282
        },
        "id": "1_UUy1YuJpdP",
        "outputId": "2f97f15f-65fc-4ff7-d269-45dc2a2204da"
      },
      "source": [
        "plt.plot(loss_val)"
      ],
      "execution_count": null,
      "outputs": [
        {
          "output_type": "execute_result",
          "data": {
            "text/plain": [
              "[<matplotlib.lines.Line2D at 0x7f1ae1dd97f0>]"
            ]
          },
          "metadata": {
            "tags": []
          },
          "execution_count": 22
        },
        {
          "output_type": "display_data",
          "data": {
            "image/png": "[encoded data removed]",
            "text/plain": [
              "<Figure size 432x288 with 1 Axes>"
            ]
          },
          "metadata": {
            "tags": [],
            "needs_background": "light"
          }
        }
      ]
    },
    {
      "cell_type": "code",
      "metadata": {
        "id": "FGCtrEfGKeNi"
      },
      "source": [
        "from collections import Counter\r\n",
        "dict_pos_n = Counter()\r\n",
        "dict_pos_c = Counter()\r\n",
        "for idx, batch in enumerate(dataloader_test):\r\n",
        "        batch = [batch_part.to(device) for batch_part in batch]\r\n",
        "        lm_logits = seq2seq(batch[0], batch[1])\r\n",
        "\r\n",
        "        shift_logits = lm_logits[..., :-1, :].contiguous()\r\n",
        "        shift_labels = batch[1][..., 1:].contiguous()\r\n",
        "\r\n",
        "\r\n",
        "        for n1,i in enumerate(shift_logits):\r\n",
        "          for n2,j in enumerate(i):\r\n",
        "            if shift_labels[n1,n2]!= 25:\r\n",
        "              dict_pos_n[n2] += 1\r\n",
        "              if np.argmax(j.cpu().detach().numpy()) == shift_labels[n1,n2]:\r\n",
        "                dict_pos_c[n2] += 1\r\n"
      ],
      "execution_count": null,
      "outputs": []
    },
    {
      "cell_type": "code",
      "metadata": {
        "id": "FMTcWN1dK1F3"
      },
      "source": [
        "res_val = []\r\n",
        "for i in range(len(dict_pos_n)):\r\n",
        "  res_val.append(dict_pos_c[i]/dict_pos_n[i])\r\n"
      ],
      "execution_count": null,
      "outputs": []
    },
    {
      "cell_type": "code",
      "metadata": {
        "colab": {
          "base_uri": "https://localhost:8080/",
          "height": 282
        },
        "id": "zu1IC7ifLIlS",
        "outputId": "1c334b3e-4881-4417-85a3-e5ca804c82d2"
      },
      "source": [
        "plt.plot(res_val)"
      ],
      "execution_count": null,
      "outputs": [
        {
          "output_type": "execute_result",
          "data": {
            "text/plain": [
              "[<matplotlib.lines.Line2D at 0x7f1a86110080>]"
            ]
          },
          "metadata": {
            "tags": []
          },
          "execution_count": 27
        },
        {
          "output_type": "display_data",
          "data": {
            "image/png": "[encoded data removed]",
            "text/plain": [
              "<Figure size 432x288 with 1 Axes>"
            ]
          },
          "metadata": {
            "tags": [],
            "needs_background": "light"
          }
        }
      ]
    },
    {
      "cell_type": "markdown",
      "metadata": {
        "id": "9_jNEDM3AqCP"
      },
      "source": [
        "__Бонусное задание**: использование Attention (+10-30%)__\n",
        "\n",
        "В качестве бонусного задания вас ждет реализация решения с использованием механизма Attention. За примером можно обратиться к [данной статье](https://pytorch.org/tutorials/intermediate/seq2seq_translation_tutorial.html), или же воспользоваться одним из примеров в сети.\n",
        "\n",
        "Ваша цель состоит в следующем:\n",
        "1. Реализовать Attention слой (или адаптировать доступный в сети).\n",
        "2. Обучить модель с использованием Attention и оценить время ее обучения.\n",
        "3. Оценить результаты аналогично предыдущему шагу и сравнить результаты и скорость работы."
      ]
    },
    {
      "cell_type": "code",
      "metadata": {
        "id": "EN1RFg5w4ZF_"
      },
      "source": [
        "# your bonus code here"
      ],
      "execution_count": null,
      "outputs": []
    },
    {
      "cell_type": "markdown",
      "metadata": {
        "id": "HPcLaJDL5C9G"
      },
      "source": [
        "#### Выводы\n",
        "Cформулируйте выводы на основании проделанной работы. Как соотносятся результаты на тестовой и обучающей выборке между собой? Зависит ли качество транслитерации от направления чтения текста? Позволил ли Attention добиться лучших результатов? Какие шаги данного задания показались вам интереснее всего?\n",
        "\n",
        "\n",
        "### Выводы:\n",
        "_Ваши замечательные выводы_"
      ]
    },
    {
      "cell_type": "markdown",
      "metadata": {
        "id": "ritlbaPq3oa1"
      },
      "source": [
        "Пожалуйста, оставьте обратную связь о задании [по ссылке](http://rebrand.ly/mfnlp2020q4_feedback_hw05). Она (при желании) анонимна ;)"
      ]
    }
  ]
}